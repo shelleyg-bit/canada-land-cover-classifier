{
  "nbformat": 4,
  "nbformat_minor": 0,
  "metadata": {
    "colab": {
      "name": "download_sentinel_from_gee.ipynb",
      "provenance": [],
      "mount_file_id": "1P__Q5QS5OtUebQ2JtPn_IFGWhXV94hqw",
      "authorship_tag": "ABX9TyN31NikT6n/3CvGSAMJyPcH",
      "include_colab_link": true
    },
    "kernelspec": {
      "name": "python3",
      "display_name": "Python 3"
    },
    "language_info": {
      "name": "python"
    },
    "widgets": {
      "application/vnd.jupyter.widget-state+json": {
        "548dda17738a42a0af2461ab678df038": {
          "model_module": "jupyter-leaflet",
          "model_name": "LeafletTileLayerModel",
          "model_module_version": "^0.16.0",
          "state": {
            "_model_module": "jupyter-leaflet",
            "_model_module_version": "^0.16.0",
            "_model_name": "LeafletTileLayerModel",
            "_view_count": null,
            "_view_module": "jupyter-leaflet",
            "_view_module_version": "^0.16.0",
            "_view_name": "LeafletTileLayerView",
            "attribution": "Google",
            "base": false,
            "bottom": true,
            "bounds": null,
            "detect_retina": false,
            "loading": false,
            "max_native_zoom": 18,
            "max_zoom": 22,
            "min_native_zoom": 0,
            "min_zoom": 0,
            "name": "Google Maps",
            "no_wrap": false,
            "opacity": 1,
            "options": [
              "attribution",
              "bounds",
              "detect_retina",
              "max_native_zoom",
              "max_zoom",
              "min_native_zoom",
              "min_zoom",
              "no_wrap",
              "tile_size",
              "tms"
            ],
            "popup": null,
            "popup_max_height": null,
            "popup_max_width": 300,
            "popup_min_width": 50,
            "show_loading": false,
            "tile_size": 256,
            "tms": false,
            "url": "https://mt1.google.com/vt/lyrs=m&x={x}&y={y}&z={z}",
            "visible": true
          }
        },
        "d6c1c59daf1c4cc7bae85f80488b3a49": {
          "model_module": "jupyter-leaflet",
          "model_name": "LeafletMapModel",
          "model_module_version": "^0.16.0",
          "state": {
            "_dom_classes": [],
            "_model_module": "jupyter-leaflet",
            "_model_module_version": "^0.16.0",
            "_model_name": "LeafletMapModel",
            "_view_count": null,
            "_view_module": "jupyter-leaflet",
            "_view_module_version": "^0.16.0",
            "_view_name": "LeafletMapView",
            "bottom": 87513,
            "bounce_at_zoom_limits": true,
            "box_zoom": true,
            "center": [
              51.47026338272035,
              -116.29234313964845
            ],
            "close_popup_on_click": true,
            "controls": [
              "IPY_MODEL_8db2211bedd94914aa7dda8c4c85df96",
              "IPY_MODEL_4ef03f9dcfc04861bce59314c9e4ec72",
              "IPY_MODEL_630a9b8f28d849ed8756acdc4daddef9",
              "IPY_MODEL_a672ff13d3234487a902adf44c9adbfb",
              "IPY_MODEL_2ae18edb5e7c42309b7017171504fc13",
              "IPY_MODEL_28c8f632efe74046b1602136261e156d",
              "IPY_MODEL_0c0257b60587478e8bea0951afd4e25c",
              "IPY_MODEL_d5e3c67f41044e6daaee6134e8bc456b"
            ],
            "crs": {
              "name": "EPSG3857",
              "custom": false
            },
            "default_style": "IPY_MODEL_4ccdfc2cf4394f17ac23a4903cc6a41b",
            "double_click_zoom": true,
            "dragging": true,
            "dragging_style": "IPY_MODEL_f9c74f614d7a40a79a41f9c00f694b69",
            "east": -114.82772827148439,
            "fullscreen": false,
            "inertia": true,
            "inertia_deceleration": 3000,
            "inertia_max_speed": 1500,
            "interpolation": "bilinear",
            "keyboard": true,
            "keyboard_pan_offset": 80,
            "keyboard_zoom_offset": 1,
            "layers": [
              "IPY_MODEL_ff087214cbc9427f9eee57d14d651cc4",
              "IPY_MODEL_548dda17738a42a0af2461ab678df038",
              "IPY_MODEL_a749ca9de0714af392abb87df73b3f74",
              "IPY_MODEL_460fb52f11fc43fb8cf2c66710275fa5"
            ],
            "layout": "IPY_MODEL_9ab58db457e04cd2bcb5c47b287eec2f",
            "left": 45324,
            "max_zoom": 24,
            "min_zoom": 1,
            "modisdate": "2022-05-19",
            "north": 51.72617752055949,
            "options": [
              "bounce_at_zoom_limits",
              "box_zoom",
              "center",
              "close_popup_on_click",
              "double_click_zoom",
              "dragging",
              "fullscreen",
              "inertia",
              "inertia_deceleration",
              "inertia_max_speed",
              "interpolation",
              "keyboard",
              "keyboard_pan_offset",
              "keyboard_zoom_offset",
              "max_zoom",
              "min_zoom",
              "prefer_canvas",
              "scroll_wheel_zoom",
              "tap",
              "tap_tolerance",
              "touch_zoom",
              "world_copy_jump",
              "zoom",
              "zoom_animation_threshold",
              "zoom_delta",
              "zoom_snap",
              "zoom_start"
            ],
            "prefer_canvas": false,
            "right": 47457,
            "scroll_wheel_zoom": true,
            "south": 51.21290566668017,
            "style": "IPY_MODEL_4ccdfc2cf4394f17ac23a4903cc6a41b",
            "tap": true,
            "tap_tolerance": 15,
            "top": 86913,
            "touch_zoom": true,
            "west": -117.75695800781251,
            "window_url": "https://7407jyxy3ks-496ff2e9c6d22116-0-colab.googleusercontent.com/outputframe.html?vrz=colab-20220518-060055-RC00_449411064",
            "world_copy_jump": false,
            "zoom": 10,
            "zoom_animation_threshold": 4,
            "zoom_delta": 1,
            "zoom_snap": 1,
            "zoom_start": 12,
            "_dragging": false
          }
        },
        "8db2211bedd94914aa7dda8c4c85df96": {
          "model_module": "jupyter-leaflet",
          "model_name": "LeafletWidgetControlModel",
          "model_module_version": "^0.16.0",
          "state": {
            "_model_module": "jupyter-leaflet",
            "_model_module_version": "^0.16.0",
            "_model_name": "LeafletWidgetControlModel",
            "_view_count": null,
            "_view_module": "jupyter-leaflet",
            "_view_module_version": "^0.16.0",
            "_view_name": "LeafletWidgetControlView",
            "max_height": null,
            "max_width": null,
            "min_height": null,
            "min_width": null,
            "options": [
              "position",
              "transparent_bg"
            ],
            "position": "topleft",
            "transparent_bg": false,
            "widget": "IPY_MODEL_3bc13d074633420c96b244ac6bae15e9"
          }
        },
        "4ef03f9dcfc04861bce59314c9e4ec72": {
          "model_module": "jupyter-leaflet",
          "model_name": "LeafletZoomControlModel",
          "model_module_version": "^0.16.0",
          "state": {
            "_model_module": "jupyter-leaflet",
            "_model_module_version": "^0.16.0",
            "_model_name": "LeafletZoomControlModel",
            "_view_count": null,
            "_view_module": "jupyter-leaflet",
            "_view_module_version": "^0.16.0",
            "_view_name": "LeafletZoomControlView",
            "options": [
              "position",
              "zoom_in_text",
              "zoom_in_title",
              "zoom_out_text",
              "zoom_out_title"
            ],
            "position": "topleft",
            "zoom_in_text": "+",
            "zoom_in_title": "Zoom in",
            "zoom_out_text": "-",
            "zoom_out_title": "Zoom out"
          }
        },
        "630a9b8f28d849ed8756acdc4daddef9": {
          "model_module": "jupyter-leaflet",
          "model_name": "LeafletScaleControlModel",
          "model_module_version": "^0.16.0",
          "state": {
            "_model_module": "jupyter-leaflet",
            "_model_module_version": "^0.16.0",
            "_model_name": "LeafletScaleControlModel",
            "_view_count": null,
            "_view_module": "jupyter-leaflet",
            "_view_module_version": "^0.16.0",
            "_view_name": "LeafletScaleControlView",
            "imperial": true,
            "max_width": 100,
            "metric": true,
            "options": [
              "imperial",
              "max_width",
              "metric",
              "position",
              "update_when_idle"
            ],
            "position": "bottomleft",
            "update_when_idle": false
          }
        },
        "a672ff13d3234487a902adf44c9adbfb": {
          "model_module": "jupyter-leaflet",
          "model_name": "LeafletFullScreenControlModel",
          "model_module_version": "^0.16.0",
          "state": {
            "_model_module": "jupyter-leaflet",
            "_model_module_version": "^0.16.0",
            "_model_name": "LeafletFullScreenControlModel",
            "_view_count": null,
            "_view_module": "jupyter-leaflet",
            "_view_module_version": "^0.16.0",
            "_view_name": "LeafletFullScreenControlView",
            "options": [
              "position"
            ],
            "position": "topleft"
          }
        },
        "2ae18edb5e7c42309b7017171504fc13": {
          "model_module": "jupyter-leaflet",
          "model_name": "LeafletMeasureControlModel",
          "model_module_version": "^0.16.0",
          "state": {
            "_custom_units": {},
            "_model_module": "jupyter-leaflet",
            "_model_module_version": "^0.16.0",
            "_model_name": "LeafletMeasureControlModel",
            "_view_count": null,
            "_view_module": "jupyter-leaflet",
            "_view_module_version": "^0.16.0",
            "_view_name": "LeafletMeasureControlView",
            "active_color": "orange",
            "capture_z_index": 10000,
            "completed_color": "#C8F2BE",
            "options": [
              "active_color",
              "capture_z_index",
              "completed_color",
              "popup_options",
              "position",
              "primary_area_unit",
              "primary_length_unit",
              "secondary_area_unit",
              "secondary_length_unit"
            ],
            "popup_options": {
              "className": "leaflet-measure-resultpopup",
              "autoPanPadding": [
                10,
                10
              ]
            },
            "position": "bottomleft",
            "primary_area_unit": "acres",
            "primary_length_unit": "kilometers",
            "secondary_area_unit": null,
            "secondary_length_unit": null
          }
        },
        "28c8f632efe74046b1602136261e156d": {
          "model_module": "jupyter-leaflet",
          "model_name": "LeafletAttributionControlModel",
          "model_module_version": "^0.16.0",
          "state": {
            "_model_module": "jupyter-leaflet",
            "_model_module_version": "^0.16.0",
            "_model_name": "LeafletAttributionControlModel",
            "_view_count": null,
            "_view_module": "jupyter-leaflet",
            "_view_module_version": "^0.16.0",
            "_view_name": "LeafletAttributionControlView",
            "options": [
              "position",
              "prefix"
            ],
            "position": "bottomright",
            "prefix": "ipyleaflet"
          }
        },
        "0c0257b60587478e8bea0951afd4e25c": {
          "model_module": "jupyter-leaflet",
          "model_name": "LeafletDrawControlModel",
          "model_module_version": "^0.16.0",
          "state": {
            "_model_module": "jupyter-leaflet",
            "_model_module_version": "^0.16.0",
            "_model_name": "LeafletDrawControlModel",
            "_view_count": null,
            "_view_module": "jupyter-leaflet",
            "_view_module_version": "^0.16.0",
            "_view_name": "LeafletDrawControlView",
            "circle": {
              "shapeOptions": {
                "color": "#3388ff"
              }
            },
            "circlemarker": {},
            "data": [],
            "edit": true,
            "marker": {
              "shapeOptions": {
                "color": "#3388ff"
              }
            },
            "options": [
              "position"
            ],
            "polygon": {
              "shapeOptions": {}
            },
            "polyline": {
              "shapeOptions": {}
            },
            "position": "topleft",
            "rectangle": {
              "shapeOptions": {
                "color": "#3388ff"
              }
            },
            "remove": true
          }
        },
        "d5e3c67f41044e6daaee6134e8bc456b": {
          "model_module": "jupyter-leaflet",
          "model_name": "LeafletWidgetControlModel",
          "model_module_version": "^0.16.0",
          "state": {
            "_model_module": "jupyter-leaflet",
            "_model_module_version": "^0.16.0",
            "_model_name": "LeafletWidgetControlModel",
            "_view_count": null,
            "_view_module": "jupyter-leaflet",
            "_view_module_version": "^0.16.0",
            "_view_name": "LeafletWidgetControlView",
            "max_height": null,
            "max_width": null,
            "min_height": null,
            "min_width": null,
            "options": [
              "position",
              "transparent_bg"
            ],
            "position": "topright",
            "transparent_bg": false,
            "widget": "IPY_MODEL_d21b703de1454a479a103c0e02e17d19"
          }
        },
        "4ccdfc2cf4394f17ac23a4903cc6a41b": {
          "model_module": "jupyter-leaflet",
          "model_name": "LeafletMapStyleModel",
          "model_module_version": "^0.16.0",
          "state": {
            "_model_module": "jupyter-leaflet",
            "_model_module_version": "^0.16.0",
            "_model_name": "LeafletMapStyleModel",
            "_view_count": null,
            "_view_module": "@jupyter-widgets/base",
            "_view_module_version": "1.2.0",
            "_view_name": "StyleView",
            "cursor": "grab"
          }
        },
        "f9c74f614d7a40a79a41f9c00f694b69": {
          "model_module": "jupyter-leaflet",
          "model_name": "LeafletMapStyleModel",
          "model_module_version": "^0.16.0",
          "state": {
            "_model_module": "jupyter-leaflet",
            "_model_module_version": "^0.16.0",
            "_model_name": "LeafletMapStyleModel",
            "_view_count": null,
            "_view_module": "@jupyter-widgets/base",
            "_view_module_version": "1.2.0",
            "_view_name": "StyleView",
            "cursor": "move"
          }
        },
        "ff087214cbc9427f9eee57d14d651cc4": {
          "model_module": "jupyter-leaflet",
          "model_name": "LeafletTileLayerModel",
          "model_module_version": "^0.16.0",
          "state": {
            "_model_module": "jupyter-leaflet",
            "_model_module_version": "^0.16.0",
            "_model_name": "LeafletTileLayerModel",
            "_view_count": null,
            "_view_module": "jupyter-leaflet",
            "_view_module_version": "^0.16.0",
            "_view_name": "LeafletTileLayerView",
            "attribution": "&copy; <a href=\"https://www.openstreetmap.org/copyright\">OpenStreetMap</a> contributors",
            "base": true,
            "bottom": true,
            "bounds": null,
            "detect_retina": false,
            "loading": false,
            "max_native_zoom": 18,
            "max_zoom": 19,
            "min_native_zoom": 0,
            "min_zoom": 1,
            "name": "OpenStreetMap.Mapnik",
            "no_wrap": false,
            "opacity": 1,
            "options": [
              "attribution",
              "bounds",
              "detect_retina",
              "max_native_zoom",
              "max_zoom",
              "min_native_zoom",
              "min_zoom",
              "no_wrap",
              "tile_size",
              "tms"
            ],
            "popup": null,
            "popup_max_height": null,
            "popup_max_width": 300,
            "popup_min_width": 50,
            "show_loading": false,
            "tile_size": 256,
            "tms": false,
            "url": "https://a.tile.openstreetmap.org/{z}/{x}/{y}.png",
            "visible": true
          }
        },
        "a749ca9de0714af392abb87df73b3f74": {
          "model_module": "jupyter-leaflet",
          "model_name": "LeafletTileLayerModel",
          "model_module_version": "^0.16.0",
          "state": {
            "_model_module": "jupyter-leaflet",
            "_model_module_version": "^0.16.0",
            "_model_name": "LeafletTileLayerModel",
            "_view_count": null,
            "_view_module": "jupyter-leaflet",
            "_view_module_version": "^0.16.0",
            "_view_name": "LeafletTileLayerView",
            "attribution": "Google Earth Engine",
            "base": false,
            "bottom": true,
            "bounds": null,
            "detect_retina": false,
            "loading": false,
            "max_native_zoom": 18,
            "max_zoom": 24,
            "min_native_zoom": 0,
            "min_zoom": 0,
            "name": "AOI",
            "no_wrap": false,
            "opacity": 0.5,
            "options": [
              "attribution",
              "bounds",
              "detect_retina",
              "max_native_zoom",
              "max_zoom",
              "min_native_zoom",
              "min_zoom",
              "no_wrap",
              "tile_size",
              "tms"
            ],
            "popup": null,
            "popup_max_height": null,
            "popup_max_width": 300,
            "popup_min_width": 50,
            "show_loading": false,
            "tile_size": 256,
            "tms": false,
            "url": "https://earthengine.googleapis.com/v1alpha/projects/earthengine-legacy/maps/27a9c2c880b53d1eb40bf756b6961651-44bbe372a157d07b9f289418f5604ed4/tiles/{z}/{x}/{y}",
            "visible": true
          }
        },
        "460fb52f11fc43fb8cf2c66710275fa5": {
          "model_module": "jupyter-leaflet",
          "model_name": "LeafletTileLayerModel",
          "model_module_version": "^0.16.0",
          "state": {
            "_model_module": "jupyter-leaflet",
            "_model_module_version": "^0.16.0",
            "_model_name": "LeafletTileLayerModel",
            "_view_count": null,
            "_view_module": "jupyter-leaflet",
            "_view_module_version": "^0.16.0",
            "_view_name": "LeafletTileLayerView",
            "attribution": "Google Earth Engine",
            "base": false,
            "bottom": true,
            "bounds": null,
            "detect_retina": false,
            "loading": false,
            "max_native_zoom": 18,
            "max_zoom": 24,
            "min_native_zoom": 0,
            "min_zoom": 0,
            "name": "false(B8,B4,B3)",
            "no_wrap": false,
            "opacity": 1,
            "options": [
              "attribution",
              "bounds",
              "detect_retina",
              "max_native_zoom",
              "max_zoom",
              "min_native_zoom",
              "min_zoom",
              "no_wrap",
              "tile_size",
              "tms"
            ],
            "popup": null,
            "popup_max_height": null,
            "popup_max_width": 300,
            "popup_min_width": 50,
            "show_loading": false,
            "tile_size": 256,
            "tms": false,
            "url": "https://earthengine.googleapis.com/v1alpha/projects/earthengine-legacy/maps/9374b075aaf892e8345d20f26d8c097f-a8d3966ba42c181ba8955b28fadfd4d5/tiles/{z}/{x}/{y}",
            "visible": true
          }
        },
        "9ab58db457e04cd2bcb5c47b287eec2f": {
          "model_module": "@jupyter-widgets/base",
          "model_name": "LayoutModel",
          "model_module_version": "1.2.0",
          "state": {
            "_model_module": "@jupyter-widgets/base",
            "_model_module_version": "1.2.0",
            "_model_name": "LayoutModel",
            "_view_count": null,
            "_view_module": "@jupyter-widgets/base",
            "_view_module_version": "1.2.0",
            "_view_name": "LayoutView",
            "align_content": null,
            "align_items": null,
            "align_self": null,
            "border": null,
            "bottom": null,
            "display": null,
            "flex": null,
            "flex_flow": null,
            "grid_area": null,
            "grid_auto_columns": null,
            "grid_auto_flow": null,
            "grid_auto_rows": null,
            "grid_column": null,
            "grid_gap": null,
            "grid_row": null,
            "grid_template_areas": null,
            "grid_template_columns": null,
            "grid_template_rows": null,
            "height": "600px",
            "justify_content": null,
            "justify_items": null,
            "left": null,
            "margin": null,
            "max_height": null,
            "max_width": null,
            "min_height": null,
            "min_width": null,
            "object_fit": null,
            "object_position": null,
            "order": null,
            "overflow": null,
            "overflow_x": null,
            "overflow_y": null,
            "padding": null,
            "right": null,
            "top": null,
            "visibility": null,
            "width": null
          }
        },
        "7a299ec8b6b14a7bb8477c574511fbe8": {
          "model_module": "jupyter-leaflet",
          "model_name": "LeafletMapStyleModel",
          "model_module_version": "^0.16.0",
          "state": {
            "_model_module": "jupyter-leaflet",
            "_model_module_version": "^0.16.0",
            "_model_name": "LeafletMapStyleModel",
            "_view_count": null,
            "_view_module": "@jupyter-widgets/base",
            "_view_module_version": "1.2.0",
            "_view_name": "StyleView",
            "cursor": "grab"
          }
        },
        "3bc13d074633420c96b244ac6bae15e9": {
          "model_module": "@jupyter-widgets/controls",
          "model_name": "HBoxModel",
          "model_module_version": "1.5.0",
          "state": {
            "_dom_classes": [],
            "_model_module": "@jupyter-widgets/controls",
            "_model_module_version": "1.5.0",
            "_model_name": "HBoxModel",
            "_view_count": null,
            "_view_module": "@jupyter-widgets/controls",
            "_view_module_version": "1.5.0",
            "_view_name": "HBoxView",
            "box_style": "",
            "children": [
              "IPY_MODEL_319f95e5ea8c494982009c2f93d60ed4"
            ],
            "layout": "IPY_MODEL_a76ef3b90209442da80c06a6990bf48e"
          }
        },
        "d21b703de1454a479a103c0e02e17d19": {
          "model_module": "@jupyter-widgets/controls",
          "model_name": "VBoxModel",
          "model_module_version": "1.5.0",
          "state": {
            "_dom_classes": [],
            "_model_module": "@jupyter-widgets/controls",
            "_model_module_version": "1.5.0",
            "_model_name": "VBoxModel",
            "_view_count": null,
            "_view_module": "@jupyter-widgets/controls",
            "_view_module_version": "1.5.0",
            "_view_name": "VBoxView",
            "box_style": "",
            "children": [
              "IPY_MODEL_dab9a56501e8413e9c39e6223c29412b"
            ],
            "layout": "IPY_MODEL_93ab0e48a6f84a5ca58da4f0b5db89c9"
          }
        },
        "319f95e5ea8c494982009c2f93d60ed4": {
          "model_module": "@jupyter-widgets/controls",
          "model_name": "ToggleButtonModel",
          "model_module_version": "1.5.0",
          "state": {
            "_dom_classes": [],
            "_model_module": "@jupyter-widgets/controls",
            "_model_module_version": "1.5.0",
            "_model_name": "ToggleButtonModel",
            "_view_count": null,
            "_view_module": "@jupyter-widgets/controls",
            "_view_module_version": "1.5.0",
            "_view_name": "ToggleButtonView",
            "button_style": "",
            "description": "",
            "description_tooltip": null,
            "disabled": false,
            "icon": "globe",
            "layout": "IPY_MODEL_788fc9d3764945c792d60d1ad29510bb",
            "style": "IPY_MODEL_52c0758140714bf480ab66ce7bb06962",
            "tooltip": "Search location/data",
            "value": false
          }
        },
        "a76ef3b90209442da80c06a6990bf48e": {
          "model_module": "@jupyter-widgets/base",
          "model_name": "LayoutModel",
          "model_module_version": "1.2.0",
          "state": {
            "_model_module": "@jupyter-widgets/base",
            "_model_module_version": "1.2.0",
            "_model_name": "LayoutModel",
            "_view_count": null,
            "_view_module": "@jupyter-widgets/base",
            "_view_module_version": "1.2.0",
            "_view_name": "LayoutView",
            "align_content": null,
            "align_items": null,
            "align_self": null,
            "border": null,
            "bottom": null,
            "display": null,
            "flex": null,
            "flex_flow": null,
            "grid_area": null,
            "grid_auto_columns": null,
            "grid_auto_flow": null,
            "grid_auto_rows": null,
            "grid_column": null,
            "grid_gap": null,
            "grid_row": null,
            "grid_template_areas": null,
            "grid_template_columns": null,
            "grid_template_rows": null,
            "height": null,
            "justify_content": null,
            "justify_items": null,
            "left": null,
            "margin": null,
            "max_height": null,
            "max_width": null,
            "min_height": null,
            "min_width": null,
            "object_fit": null,
            "object_position": null,
            "order": null,
            "overflow": null,
            "overflow_x": null,
            "overflow_y": null,
            "padding": null,
            "right": null,
            "top": null,
            "visibility": null,
            "width": null
          }
        },
        "dab9a56501e8413e9c39e6223c29412b": {
          "model_module": "@jupyter-widgets/controls",
          "model_name": "ToggleButtonModel",
          "model_module_version": "1.5.0",
          "state": {
            "_dom_classes": [],
            "_model_module": "@jupyter-widgets/controls",
            "_model_module_version": "1.5.0",
            "_model_name": "ToggleButtonModel",
            "_view_count": null,
            "_view_module": "@jupyter-widgets/controls",
            "_view_module_version": "1.5.0",
            "_view_name": "ToggleButtonView",
            "button_style": "",
            "description": "",
            "description_tooltip": null,
            "disabled": false,
            "icon": "wrench",
            "layout": "IPY_MODEL_c50a10bf42bb41238d5650bcbaab43a3",
            "style": "IPY_MODEL_74a92a503b5d47d6ac12608c0821b141",
            "tooltip": "Toolbar",
            "value": false
          }
        },
        "93ab0e48a6f84a5ca58da4f0b5db89c9": {
          "model_module": "@jupyter-widgets/base",
          "model_name": "LayoutModel",
          "model_module_version": "1.2.0",
          "state": {
            "_model_module": "@jupyter-widgets/base",
            "_model_module_version": "1.2.0",
            "_model_name": "LayoutModel",
            "_view_count": null,
            "_view_module": "@jupyter-widgets/base",
            "_view_module_version": "1.2.0",
            "_view_name": "LayoutView",
            "align_content": null,
            "align_items": null,
            "align_self": null,
            "border": null,
            "bottom": null,
            "display": null,
            "flex": null,
            "flex_flow": null,
            "grid_area": null,
            "grid_auto_columns": null,
            "grid_auto_flow": null,
            "grid_auto_rows": null,
            "grid_column": null,
            "grid_gap": null,
            "grid_row": null,
            "grid_template_areas": null,
            "grid_template_columns": null,
            "grid_template_rows": null,
            "height": null,
            "justify_content": null,
            "justify_items": null,
            "left": null,
            "margin": null,
            "max_height": null,
            "max_width": null,
            "min_height": null,
            "min_width": null,
            "object_fit": null,
            "object_position": null,
            "order": null,
            "overflow": null,
            "overflow_x": null,
            "overflow_y": null,
            "padding": null,
            "right": null,
            "top": null,
            "visibility": null,
            "width": null
          }
        },
        "788fc9d3764945c792d60d1ad29510bb": {
          "model_module": "@jupyter-widgets/base",
          "model_name": "LayoutModel",
          "model_module_version": "1.2.0",
          "state": {
            "_model_module": "@jupyter-widgets/base",
            "_model_module_version": "1.2.0",
            "_model_name": "LayoutModel",
            "_view_count": null,
            "_view_module": "@jupyter-widgets/base",
            "_view_module_version": "1.2.0",
            "_view_name": "LayoutView",
            "align_content": null,
            "align_items": null,
            "align_self": null,
            "border": null,
            "bottom": null,
            "display": null,
            "flex": null,
            "flex_flow": null,
            "grid_area": null,
            "grid_auto_columns": null,
            "grid_auto_flow": null,
            "grid_auto_rows": null,
            "grid_column": null,
            "grid_gap": null,
            "grid_row": null,
            "grid_template_areas": null,
            "grid_template_columns": null,
            "grid_template_rows": null,
            "height": "28px",
            "justify_content": null,
            "justify_items": null,
            "left": null,
            "margin": null,
            "max_height": null,
            "max_width": null,
            "min_height": null,
            "min_width": null,
            "object_fit": null,
            "object_position": null,
            "order": null,
            "overflow": null,
            "overflow_x": null,
            "overflow_y": null,
            "padding": "0px 0px 0px 4px",
            "right": null,
            "top": null,
            "visibility": null,
            "width": "28px"
          }
        },
        "52c0758140714bf480ab66ce7bb06962": {
          "model_module": "@jupyter-widgets/controls",
          "model_name": "DescriptionStyleModel",
          "model_module_version": "1.5.0",
          "state": {
            "_model_module": "@jupyter-widgets/controls",
            "_model_module_version": "1.5.0",
            "_model_name": "DescriptionStyleModel",
            "_view_count": null,
            "_view_module": "@jupyter-widgets/base",
            "_view_module_version": "1.2.0",
            "_view_name": "StyleView",
            "description_width": ""
          }
        },
        "c50a10bf42bb41238d5650bcbaab43a3": {
          "model_module": "@jupyter-widgets/base",
          "model_name": "LayoutModel",
          "model_module_version": "1.2.0",
          "state": {
            "_model_module": "@jupyter-widgets/base",
            "_model_module_version": "1.2.0",
            "_model_name": "LayoutModel",
            "_view_count": null,
            "_view_module": "@jupyter-widgets/base",
            "_view_module_version": "1.2.0",
            "_view_name": "LayoutView",
            "align_content": null,
            "align_items": null,
            "align_self": null,
            "border": null,
            "bottom": null,
            "display": null,
            "flex": null,
            "flex_flow": null,
            "grid_area": null,
            "grid_auto_columns": null,
            "grid_auto_flow": null,
            "grid_auto_rows": null,
            "grid_column": null,
            "grid_gap": null,
            "grid_row": null,
            "grid_template_areas": null,
            "grid_template_columns": null,
            "grid_template_rows": null,
            "height": "28px",
            "justify_content": null,
            "justify_items": null,
            "left": null,
            "margin": null,
            "max_height": null,
            "max_width": null,
            "min_height": null,
            "min_width": null,
            "object_fit": null,
            "object_position": null,
            "order": null,
            "overflow": null,
            "overflow_x": null,
            "overflow_y": null,
            "padding": "0px 0px 0px 4px",
            "right": null,
            "top": null,
            "visibility": null,
            "width": "28px"
          }
        },
        "74a92a503b5d47d6ac12608c0821b141": {
          "model_module": "@jupyter-widgets/controls",
          "model_name": "DescriptionStyleModel",
          "model_module_version": "1.5.0",
          "state": {
            "_model_module": "@jupyter-widgets/controls",
            "_model_module_version": "1.5.0",
            "_model_name": "DescriptionStyleModel",
            "_view_count": null,
            "_view_module": "@jupyter-widgets/base",
            "_view_module_version": "1.2.0",
            "_view_name": "StyleView",
            "description_width": ""
          }
        }
      }
    }
  },
  "cells": [
    {
      "cell_type": "markdown",
      "metadata": {
        "id": "view-in-github",
        "colab_type": "text"
      },
      "source": [
        "<a href=\"https://colab.research.google.com/github/shelleyg-bit/canada-land-cover-classifier/blob/main/download_sentinel_from_gee.ipynb\" target=\"_parent\"><img src=\"https://colab.research.google.com/assets/colab-badge.svg\" alt=\"Open In Colab\"/></a>"
      ]
    },
    {
      "cell_type": "code",
      "execution_count": null,
      "metadata": {
        "id": "dj0_fCckypjl"
      },
      "outputs": [],
      "source": [
        "import ee"
      ]
    },
    {
      "cell_type": "code",
      "source": [
        "ee.Authenticate()\n",
        "ee.Initialize()"
      ],
      "metadata": {
        "colab": {
          "base_uri": "https://localhost:8080/"
        },
        "id": "srBfxgM-kuvi",
        "outputId": "1c3e758f-0936-4350-c62a-19fdd8b45914"
      },
      "execution_count": null,
      "outputs": [
        {
          "output_type": "stream",
          "name": "stdout",
          "text": [
            "To authorize access needed by Earth Engine, open the following URL in a web browser and follow the instructions. If the web browser does not start automatically, please manually browse the URL below.\n",
            "\n",
            "    https://code.earthengine.google.com/client-auth?scopes=https%3A//www.googleapis.com/auth/earthengine%20https%3A//www.googleapis.com/auth/devstorage.full_control&request_id=diYH2IV-Zsa2YMYQa2RMa0SMnrfzxpSTA3Nxpj7zslE&tc=-GmensgTk5g8avibAzAGnYe1_Oa-SPRbI1-NS_a0Gxc&cc=Tp9482bhO20fig_szYq8ZJzLIzcUXXjvH_5LqFZXd3Y\n",
            "\n",
            "The authorization workflow will generate a code, which you should paste in the box below. \n",
            "Enter verification code: 4/1AX4XfWiD0zIY4eIE53_2Cgx5Z4CcuObkiXlsFu1ap_fTAd5W6BvHS9wE3QE\n",
            "\n",
            "Successfully saved authorization token.\n"
          ]
        }
      ]
    },
    {
      "cell_type": "code",
      "source": [
        "!pip install geopandas\n",
        "!pip install rasterio"
      ],
      "metadata": {
        "id": "TEsgqMv7lYPr"
      },
      "execution_count": null,
      "outputs": []
    },
    {
      "cell_type": "code",
      "source": [
        "import rasterio as rio\n",
        "import geopandas as gpd\n",
        "from matplotlib import pyplot as plt"
      ],
      "metadata": {
        "id": "yHAFU1KwkziH"
      },
      "execution_count": null,
      "outputs": []
    },
    {
      "cell_type": "markdown",
      "source": [
        "# Prepare BBox"
      ],
      "metadata": {
        "id": "RVoP3nLYoGMa"
      }
    },
    {
      "cell_type": "code",
      "source": [
        "lc_data_dir = '/content/drive/MyDrive/nrcan/lc_data'\n",
        "with rio.open(f'{lc_data_dir}/aoi1_lc.tif', 'r') as src:\n",
        "  lc = src.read(1)\n",
        "  lc_profile = src.profile.copy()\n",
        "  lc_bounds = src.bounds\n",
        "  print(src.profile)\n",
        "plt.imshow(lc, cmap='terrain')"
      ],
      "metadata": {
        "colab": {
          "base_uri": "https://localhost:8080/",
          "height": 321
        },
        "id": "qHqD2MeClm2i",
        "outputId": "3210f3d3-e2c2-45f6-aec0-7c542112c161"
      },
      "execution_count": null,
      "outputs": [
        {
          "output_type": "stream",
          "name": "stdout",
          "text": [
            "{'driver': 'GTiff', 'dtype': 'uint8', 'nodata': 255.0, 'width': 6125, 'height': 4496, 'count': 1, 'crs': CRS.from_epsg(3978), 'transform': Affine(30.0, 0.0, -1533684.509203629,\n",
            "       0.0, -30.0, 576208.2823371678), 'blockxsize': 128, 'blockysize': 128, 'tiled': True, 'compress': 'lzw', 'interleave': 'band'}\n"
          ]
        },
        {
          "output_type": "execute_result",
          "data": {
            "text/plain": [
              "<matplotlib.image.AxesImage at 0x7fd88c80c890>"
            ]
          },
          "metadata": {},
          "execution_count": 9
        },
        {
          "output_type": "display_data",
          "data": {
            "text/plain": [
              "<Figure size 432x288 with 1 Axes>"
            ],
            "image/png": "[encoded data removed]"
          },
          "metadata": {
            "needs_background": "light"
          }
        }
      ]
    },
    {
      "cell_type": "code",
      "source": [
        "lc_bounds"
      ],
      "metadata": {
        "colab": {
          "base_uri": "https://localhost:8080/"
        },
        "id": "YVRBVQ2fl60y",
        "outputId": "7d433d42-e083-44e2-e379-4e47137b754c"
      },
      "execution_count": null,
      "outputs": [
        {
          "output_type": "execute_result",
          "data": {
            "text/plain": [
              "BoundingBox(left=-1533684.509203629, bottom=441328.28233716777, right=-1349934.509203629, top=576208.2823371678)"
            ]
          },
          "metadata": {},
          "execution_count": 12
        }
      ]
    },
    {
      "cell_type": "code",
      "source": [
        "type(lc_bounds)"
      ],
      "metadata": {
        "colab": {
          "base_uri": "https://localhost:8080/"
        },
        "id": "QVsqaeMwniZu",
        "outputId": "b3dea4eb-871a-4eed-e746-38005c6501fe"
      },
      "execution_count": null,
      "outputs": [
        {
          "output_type": "execute_result",
          "data": {
            "text/plain": [
              "rasterio.coords.BoundingBox"
            ]
          },
          "metadata": {},
          "execution_count": 13
        }
      ]
    },
    {
      "cell_type": "code",
      "source": [
        "l, b, r, t = lc_bounds"
      ],
      "metadata": {
        "id": "7CxBWpfdo2pa"
      },
      "execution_count": null,
      "outputs": []
    },
    {
      "cell_type": "code",
      "source": [
        "print(*lc_bounds)"
      ],
      "metadata": {
        "colab": {
          "base_uri": "https://localhost:8080/"
        },
        "id": "pN9-WC2uqAu1",
        "outputId": "6e09b3e6-0433-4506-cf50-410c61634a80"
      },
      "execution_count": null,
      "outputs": [
        {
          "output_type": "stream",
          "name": "stdout",
          "text": [
            "-1533684.509203629 441328.28233716777 -1349934.509203629 576208.2823371678\n"
          ]
        }
      ]
    },
    {
      "cell_type": "code",
      "source": [
        "from shapely.geometry import Polygon\n",
        "bbox = Polygon([(l,b), (l,t), (r,t), (r,b)])\n",
        "aoi_gdf = gpd.GeoDataFrame({'geometry': [bbox]}, crs=lc_profile['crs'])"
      ],
      "metadata": {
        "id": "HLgUefcao7p8"
      },
      "execution_count": null,
      "outputs": []
    },
    {
      "cell_type": "code",
      "source": [
        "aoi_gdf"
      ],
      "metadata": {
        "colab": {
          "base_uri": "https://localhost:8080/",
          "height": 81
        },
        "id": "l2ACIT6vqqVK",
        "outputId": "45ee4090-232c-443b-af1c-fed21d6bcdad"
      },
      "execution_count": null,
      "outputs": [
        {
          "output_type": "execute_result",
          "data": {
            "text/plain": [
              "                                            geometry\n",
              "0  POLYGON ((-1533684.509 441328.282, -1533684.50..."
            ],
            "text/html": [
              "\n",
              "  <div id=\"df-86e775d1-9d11-4716-b5a0-7b1ced89c34e\">\n",
              "    <div class=\"colab-df-container\">\n",
              "      <div>\n",
              "<style scoped>\n",
              "    .dataframe tbody tr th:only-of-type {\n",
              "        vertical-align: middle;\n",
              "    }\n",
              "\n",
              "    .dataframe tbody tr th {\n",
              "        vertical-align: top;\n",
              "    }\n",
              "\n",
              "    .dataframe thead th {\n",
              "        text-align: right;\n",
              "    }\n",
              "</style>\n",
              "<table border=\"1\" class=\"dataframe\">\n",
              "  <thead>\n",
              "    <tr style=\"text-align: right;\">\n",
              "      <th></th>\n",
              "      <th>geometry</th>\n",
              "    </tr>\n",
              "  </thead>\n",
              "  <tbody>\n",
              "    <tr>\n",
              "      <th>0</th>\n",
              "      <td>POLYGON ((-1533684.509 441328.282, -1533684.50...</td>\n",
              "    </tr>\n",
              "  </tbody>\n",
              "</table>\n",
              "</div>\n",
              "      <button class=\"colab-df-convert\" onclick=\"convertToInteractive('df-86e775d1-9d11-4716-b5a0-7b1ced89c34e')\"\n",
              "              title=\"Convert this dataframe to an interactive table.\"\n",
              "              style=\"display:none;\">\n",
              "        \n",
              "  <svg xmlns=\"http://www.w3.org/2000/svg\" height=\"24px\"viewBox=\"0 0 24 24\"\n",
              "       width=\"24px\">\n",
              "    <path d=\"M0 0h24v24H0V0z\" fill=\"none\"/>\n",
              "    <path d=\"M18.56 5.44l.94 2.06.94-2.06 2.06-.94-2.06-.94-.94-2.06-.94 2.06-2.06.94zm-11 1L8.5 8.5l.94-2.06 2.06-.94-2.06-.94L8.5 2.5l-.94 2.06-2.06.94zm10 10l.94 2.06.94-2.06 2.06-.94-2.06-.94-.94-2.06-.94 2.06-2.06.94z\"/><path d=\"M17.41 7.96l-1.37-1.37c-.4-.4-.92-.59-1.43-.59-.52 0-1.04.2-1.43.59L10.3 9.45l-7.72 7.72c-.78.78-.78 2.05 0 2.83L4 21.41c.39.39.9.59 1.41.59.51 0 1.02-.2 1.41-.59l7.78-7.78 2.81-2.81c.8-.78.8-2.07 0-2.86zM5.41 20L4 18.59l7.72-7.72 1.47 1.35L5.41 20z\"/>\n",
              "  </svg>\n",
              "      </button>\n",
              "      \n",
              "  <style>\n",
              "    .colab-df-container {\n",
              "      display:flex;\n",
              "      flex-wrap:wrap;\n",
              "      gap: 12px;\n",
              "    }\n",
              "\n",
              "    .colab-df-convert {\n",
              "      background-color: #E8F0FE;\n",
              "      border: none;\n",
              "      border-radius: 50%;\n",
              "      cursor: pointer;\n",
              "      display: none;\n",
              "      fill: #1967D2;\n",
              "      height: 32px;\n",
              "      padding: 0 0 0 0;\n",
              "      width: 32px;\n",
              "    }\n",
              "\n",
              "    .colab-df-convert:hover {\n",
              "      background-color: #E2EBFA;\n",
              "      box-shadow: 0px 1px 2px rgba(60, 64, 67, 0.3), 0px 1px 3px 1px rgba(60, 64, 67, 0.15);\n",
              "      fill: #174EA6;\n",
              "    }\n",
              "\n",
              "    [theme=dark] .colab-df-convert {\n",
              "      background-color: #3B4455;\n",
              "      fill: #D2E3FC;\n",
              "    }\n",
              "\n",
              "    [theme=dark] .colab-df-convert:hover {\n",
              "      background-color: #434B5C;\n",
              "      box-shadow: 0px 1px 3px 1px rgba(0, 0, 0, 0.15);\n",
              "      filter: drop-shadow(0px 1px 2px rgba(0, 0, 0, 0.3));\n",
              "      fill: #FFFFFF;\n",
              "    }\n",
              "  </style>\n",
              "\n",
              "      <script>\n",
              "        const buttonEl =\n",
              "          document.querySelector('#df-86e775d1-9d11-4716-b5a0-7b1ced89c34e button.colab-df-convert');\n",
              "        buttonEl.style.display =\n",
              "          google.colab.kernel.accessAllowed ? 'block' : 'none';\n",
              "\n",
              "        async function convertToInteractive(key) {\n",
              "          const element = document.querySelector('#df-86e775d1-9d11-4716-b5a0-7b1ced89c34e');\n",
              "          const dataTable =\n",
              "            await google.colab.kernel.invokeFunction('convertToInteractive',\n",
              "                                                     [key], {});\n",
              "          if (!dataTable) return;\n",
              "\n",
              "          const docLinkHtml = 'Like what you see? Visit the ' +\n",
              "            '<a target=\"_blank\" href=https://colab.research.google.com/notebooks/data_table.ipynb>data table notebook</a>'\n",
              "            + ' to learn more about interactive tables.';\n",
              "          element.innerHTML = '';\n",
              "          dataTable['output_type'] = 'display_data';\n",
              "          await google.colab.output.renderOutput(dataTable, element);\n",
              "          const docLink = document.createElement('div');\n",
              "          docLink.innerHTML = docLinkHtml;\n",
              "          element.appendChild(docLink);\n",
              "        }\n",
              "      </script>\n",
              "    </div>\n",
              "  </div>\n",
              "  "
            ]
          },
          "metadata": {},
          "execution_count": 23
        }
      ]
    },
    {
      "cell_type": "markdown",
      "source": [
        "# Get Sentinel Images"
      ],
      "metadata": {
        "id": "sfgmiYkCoKVe"
      }
    },
    {
      "cell_type": "code",
      "source": [
        "!pip install geemap"
      ],
      "metadata": {
        "id": "NYAlzFvnrIFN"
      },
      "execution_count": null,
      "outputs": []
    },
    {
      "cell_type": "code",
      "source": [
        "# method to remove cloud from the image\n",
        "def maskclouds(image: ee.Image) -> ee.Image:\n",
        "    \"\"\"To mask clouds using the Sentinel-2 QA band\n",
        "    @param {ee.Image} image Sentinel-2 image\n",
        "    @return {ee.Image} cloud masked Sentinel-2 image\n",
        "    \"\"\"\n",
        "    band_qa = image.select('QA60')\n",
        "    cloud_mask = ee.Number(2).pow(10).int()\n",
        "    cirrus_mask = ee.Number(2).pow(11).int()\n",
        "    mask = band_qa.bitwiseAnd(cloud_mask).eq(0) and(\n",
        "        band_qa.bitwiseAnd(cirrus_mask).eq(0))\n",
        "    return image.updateMask(mask).divide(10000)\n",
        "\n",
        "def fndvi(image: ee.Image) -> ee.Image:\n",
        "    \"\"\"Add NDVI to each pixel in an image\"\"\"\n",
        "    #TODO: ask toby about this NDVI calculation\n",
        "    # since its 20m resolution\n",
        "    # there are other NDVIs at 10m resolution\n",
        "    ndvi = image.expression(\n",
        "    \"(NIR-RED)/(NIR+RED)\",\n",
        "    {\n",
        "        'RED': image.select('B4').multiply(0.0001),\n",
        "        'NIR' : image.select('B5').multiply(0.0001)\n",
        "    \n",
        "    });# okay\n",
        "    ndf = ndvi.rename('FNDVI')\n",
        "    results = ndf.copyProperties(image, ['system:time_start'])\n",
        "    return image.addBands(results)\n",
        "\n",
        "\n",
        "def temporal_composite(image_collection: ee.ImageCollection,\n",
        "                        duration: ee.DateRange, \n",
        "                        cloud_percentage: ee.Number,\n",
        "                        bands: ee.List,\n",
        "                        reducer: ee.Reducer) -> ee.Image :\n",
        "    ''' Applies reducer on images across a time range\n",
        "    Returns a composite for the duration\n",
        "    with selected bands\n",
        "    '''\n",
        "    ## TODO: filter out months with no data\n",
        "    ## some months with many cloudy days\n",
        "    ## might end up with No data\n",
        "    return (image_collection.\n",
        "            filterDate(duration.start(), duration.end()).\n",
        "            filter(ee.Filter.lt('CLOUDY_PIXEL_PERCENTAGE', cloud_percentage)).\n",
        "            map(maskclouds).\n",
        "            select(bands).\n",
        "            reduce(reducer))"
      ],
      "metadata": {
        "id": "u4IoonUMn1WV"
      },
      "execution_count": 215,
      "outputs": []
    },
    {
      "cell_type": "code",
      "source": [
        "def get_composites_for_aoi(time_range:ee.DateRange, aoi: ee.Geometry, out_dir: str, reproject=True, download=False) -> ee.ImageCollection:\n",
        "  ''' Get sentinel images from GEE\n",
        "  fitler according to bounds and duration\n",
        "  and create monthly composite for all months in time_range\n",
        "  Returns monthly composites collection\n",
        "  Downloads collection to google drive\n",
        "  '''\n",
        "  collection_sentinel = ('COPERNICUS/S2_SR')\n",
        "  start_date = time_range.start()\n",
        "  end_date = time_range.end()\n",
        "  count = end_date.difference(start_date, 'month').round().toInt()\n",
        "  month_seq = ee.List.sequence(0, count.subtract(1))\n",
        "  \n",
        "  images_collection = ee.ImageCollection(collection_sentinel)\n",
        "  \n",
        "  #print(aoi.getInfo())\n",
        "  # Filter collection by aoi\n",
        "  images_collection_aoi = images_collection.filterBounds(aoi)\n",
        "\n",
        "  # get the right projection for Indian geography (which is EPSG32643 UTM43N: https://epsg.io/32643)\n",
        "  # right projection is important for minimizing errors in computations\n",
        "  projection = images_collection_aoi.first().select('B2').projection()\n",
        "\n",
        "  def create_monthly_max_composite(month_no: ee.Number) -> ee.Image:\n",
        "    ''' For a given month \n",
        "    takes the max value of each band for each pixel\n",
        "    across all the images in the month\n",
        "    Returns: A monthly composite with multiple bands\n",
        "    '''\n",
        "    month_start_date = start_date.advance(month_no, 'month')\n",
        "    month_end_date = month_start_date.advance(1, 'month')\n",
        "    duration = ee.DateRange(month_start_date, month_end_date)\n",
        "    bands = ee.List(['B8', 'B4', 'B3', 'B2', 'B5'])\n",
        "    cloud_percent_acceptable = ee.Number(10) # % of pixels w/ clouds acceptaple in images\n",
        "\n",
        "    image = (temporal_composite(images_collection_aoi,\n",
        "                                duration, \n",
        "                                cloud_percent_acceptable,\n",
        "                                bands,\n",
        "                                ee.Reducer.max()).\n",
        "            float().\n",
        "            set('system:time_start', month_start_date.millis()).\n",
        "            set('system:id', month_start_date.format('YYYYMM')).\n",
        "            set('system:index', month_start_date.format('YYYYMM')))\n",
        "    if (reproject):\n",
        "      image = image.reproject(projection)\n",
        "  \n",
        "    return image\n",
        "  \n",
        "  # return create_monthly_max_composite(4) # for testing\n",
        "  \n",
        "  composite_collection = ee.ImageCollection.fromImages(month_seq.map(create_monthly_max_composite))\n",
        "\n",
        "  if (download):\n",
        "    geemap.ee_export_image_collection_to_drive(composite_collection, scale=10, descriptions=None, folder=out_dir, region=aoi)\n",
        "\n",
        "  return composite_collection"
      ],
      "metadata": {
        "id": "K8qveop1oW--"
      },
      "execution_count": 218,
      "outputs": []
    },
    {
      "cell_type": "code",
      "source": [
        "import geemap\n",
        "time_range = ee.DateRange('2020-05-01', '2020-10-01')\n",
        "aoi = geemap.geopandas_to_ee(aoi_gdf)\n",
        "composite_images = get_composites_for_aoi(time_range, aoi, 'canada_sentinel', reproject=True, download=True)\n"
      ],
      "metadata": {
        "id": "NP0XzTRroY5N",
        "colab": {
          "base_uri": "https://localhost:8080/"
        },
        "outputId": "d670b35b-aeb1-4224-9757-89c7a39733c3"
      },
      "execution_count": 219,
      "outputs": [
        {
          "output_type": "stream",
          "name": "stdout",
          "text": [
            "Total number of images: 5\n",
            "\n",
            "Exporting 202005 ...\n",
            "Exporting 202006 ...\n",
            "Exporting 202007 ...\n",
            "Exporting 202008 ...\n",
            "Exporting 202009 ...\n"
          ]
        }
      ]
    },
    {
      "cell_type": "code",
      "source": [
        "composite_images.size().getInfo()"
      ],
      "metadata": {
        "colab": {
          "base_uri": "https://localhost:8080/"
        },
        "id": "PtI31cAAriLI",
        "outputId": "214e1fdb-42db-44b2-ec7f-9927d33d1dfb"
      },
      "execution_count": 220,
      "outputs": [
        {
          "output_type": "execute_result",
          "data": {
            "text/plain": [
              "5"
            ]
          },
          "metadata": {},
          "execution_count": 220
        }
      ]
    },
    {
      "cell_type": "code",
      "source": [
        "Map = geemap.Map()\n",
        "vis_params = {\n",
        "    'bands': ['B8_max', 'B4_max', 'B3_max'],\n",
        "    'min': 0,\n",
        "    'max': 1.0\n",
        "}\n",
        "#vis_type = 'agriculture(B11,B8,B2)'\n",
        "vis_type = 'false(B8,B4,B3)'\n",
        "\n",
        "Map.addLayer(aoi, {'color': 'green'}, 'AOI', opacity=0.5)\n",
        "\n",
        "image = ee.Image(composite_images.toList(5).get(2)) # map one image from collection\n",
        "print(image.getInfo())\n",
        "projection = ee.Projection('EPSG:4326')\n",
        "image2 = image.reproject(projection)\n",
        "Map.addLayer(image2.clip(aoi), vis_params, vis_type) \n",
        "Map.center_object(aoi)"
      ],
      "metadata": {
        "id": "uIWfDEv2otbT",
        "colab": {
          "base_uri": "https://localhost:8080/",
          "height": 54
        },
        "outputId": "ef4aed25-2034-4f39-ff1b-9024820882dd"
      },
      "execution_count": 223,
      "outputs": [
        {
          "output_type": "stream",
          "name": "stdout",
          "text": [
            "{'type': 'Image', 'bands': [{'id': 'B8_max', 'data_type': {'type': 'PixelType', 'precision': 'float'}, 'crs': 'EPSG:32611', 'crs_transform': [10, 0, 499980, 0, -10, 5700000]}, {'id': 'B4_max', 'data_type': {'type': 'PixelType', 'precision': 'float'}, 'crs': 'EPSG:32611', 'crs_transform': [10, 0, 499980, 0, -10, 5700000]}, {'id': 'B3_max', 'data_type': {'type': 'PixelType', 'precision': 'float'}, 'crs': 'EPSG:32611', 'crs_transform': [10, 0, 499980, 0, -10, 5700000]}, {'id': 'B2_max', 'data_type': {'type': 'PixelType', 'precision': 'float'}, 'crs': 'EPSG:32611', 'crs_transform': [10, 0, 499980, 0, -10, 5700000]}, {'id': 'B5_max', 'data_type': {'type': 'PixelType', 'precision': 'float'}, 'crs': 'EPSG:32611', 'crs_transform': [10, 0, 499980, 0, -10, 5700000]}], 'id': '202007', 'properties': {'system:time_start': 1593561600000, 'system:index': '202007'}}\n"
          ]
        }
      ]
    },
    {
      "cell_type": "code",
      "source": [
        "\n",
        "Map"
      ],
      "metadata": {
        "colab": {
          "base_uri": "https://localhost:8080/",
          "height": 621,
          "referenced_widgets": [
            "d6c1c59daf1c4cc7bae85f80488b3a49",
            "8db2211bedd94914aa7dda8c4c85df96",
            "4ef03f9dcfc04861bce59314c9e4ec72",
            "630a9b8f28d849ed8756acdc4daddef9",
            "a672ff13d3234487a902adf44c9adbfb",
            "2ae18edb5e7c42309b7017171504fc13",
            "28c8f632efe74046b1602136261e156d",
            "0c0257b60587478e8bea0951afd4e25c",
            "d5e3c67f41044e6daaee6134e8bc456b",
            "4ccdfc2cf4394f17ac23a4903cc6a41b",
            "f9c74f614d7a40a79a41f9c00f694b69",
            "ff087214cbc9427f9eee57d14d651cc4",
            "548dda17738a42a0af2461ab678df038",
            "a749ca9de0714af392abb87df73b3f74",
            "460fb52f11fc43fb8cf2c66710275fa5",
            "9ab58db457e04cd2bcb5c47b287eec2f",
            "7a299ec8b6b14a7bb8477c574511fbe8",
            "3bc13d074633420c96b244ac6bae15e9",
            "d21b703de1454a479a103c0e02e17d19",
            "319f95e5ea8c494982009c2f93d60ed4",
            "a76ef3b90209442da80c06a6990bf48e",
            "dab9a56501e8413e9c39e6223c29412b",
            "93ab0e48a6f84a5ca58da4f0b5db89c9",
            "788fc9d3764945c792d60d1ad29510bb",
            "52c0758140714bf480ab66ce7bb06962",
            "c50a10bf42bb41238d5650bcbaab43a3",
            "74a92a503b5d47d6ac12608c0821b141"
          ]
        },
        "id": "isxcmt1Fs6rw",
        "outputId": "db88a3aa-154e-4332-f919-06eb26ce525d"
      },
      "execution_count": 224,
      "outputs": [
        {
          "output_type": "display_data",
          "data": {
            "text/plain": [
              "Map(center=[51.39146565153965, -116.30239183557119], controls=(WidgetControl(options=['position', 'transparent…"
            ],
            "application/vnd.jupyter.widget-view+json": {
              "version_major": 2,
              "version_minor": 0,
              "model_id": "d6c1c59daf1c4cc7bae85f80488b3a49"
            }
          },
          "metadata": {
            "application/vnd.jupyter.widget-view+json": {
              "colab": {
                "custom_widget_manager": {
                  "url": "https://ssl.gstatic.com/colaboratory-static/widgets/colab-cdn-widget-manager/a8874ba6619b6106/manager.min.js"
                }
              }
            }
          }
        }
      ]
    },
    {
      "cell_type": "code",
      "source": [
        "for i in range(5):\n",
        "  image = ee.Image(composite_images.toList(5).get(i)) # map one image from collection\n",
        "  print(i,image.getInfo())"
      ],
      "metadata": {
        "colab": {
          "base_uri": "https://localhost:8080/"
        },
        "id": "RRDTFGnpw1Xf",
        "outputId": "293f0025-c7cc-49eb-d3d8-13180c51ae96"
      },
      "execution_count": 225,
      "outputs": [
        {
          "output_type": "stream",
          "name": "stdout",
          "text": [
            "0 {'type': 'Image', 'bands': [{'id': 'B8_max', 'data_type': {'type': 'PixelType', 'precision': 'float'}, 'crs': 'EPSG:32611', 'crs_transform': [10, 0, 499980, 0, -10, 5700000]}, {'id': 'B4_max', 'data_type': {'type': 'PixelType', 'precision': 'float'}, 'crs': 'EPSG:32611', 'crs_transform': [10, 0, 499980, 0, -10, 5700000]}, {'id': 'B3_max', 'data_type': {'type': 'PixelType', 'precision': 'float'}, 'crs': 'EPSG:32611', 'crs_transform': [10, 0, 499980, 0, -10, 5700000]}, {'id': 'B2_max', 'data_type': {'type': 'PixelType', 'precision': 'float'}, 'crs': 'EPSG:32611', 'crs_transform': [10, 0, 499980, 0, -10, 5700000]}, {'id': 'B5_max', 'data_type': {'type': 'PixelType', 'precision': 'float'}, 'crs': 'EPSG:32611', 'crs_transform': [10, 0, 499980, 0, -10, 5700000]}], 'id': '202005', 'properties': {'system:time_start': 1588291200000, 'system:index': '202005'}}\n",
            "1 {'type': 'Image', 'bands': [{'id': 'B8_max', 'data_type': {'type': 'PixelType', 'precision': 'float'}, 'crs': 'EPSG:32611', 'crs_transform': [10, 0, 499980, 0, -10, 5700000]}, {'id': 'B4_max', 'data_type': {'type': 'PixelType', 'precision': 'float'}, 'crs': 'EPSG:32611', 'crs_transform': [10, 0, 499980, 0, -10, 5700000]}, {'id': 'B3_max', 'data_type': {'type': 'PixelType', 'precision': 'float'}, 'crs': 'EPSG:32611', 'crs_transform': [10, 0, 499980, 0, -10, 5700000]}, {'id': 'B2_max', 'data_type': {'type': 'PixelType', 'precision': 'float'}, 'crs': 'EPSG:32611', 'crs_transform': [10, 0, 499980, 0, -10, 5700000]}, {'id': 'B5_max', 'data_type': {'type': 'PixelType', 'precision': 'float'}, 'crs': 'EPSG:32611', 'crs_transform': [10, 0, 499980, 0, -10, 5700000]}], 'id': '202006', 'properties': {'system:time_start': 1590969600000, 'system:index': '202006'}}\n",
            "2 {'type': 'Image', 'bands': [{'id': 'B8_max', 'data_type': {'type': 'PixelType', 'precision': 'float'}, 'crs': 'EPSG:32611', 'crs_transform': [10, 0, 499980, 0, -10, 5700000]}, {'id': 'B4_max', 'data_type': {'type': 'PixelType', 'precision': 'float'}, 'crs': 'EPSG:32611', 'crs_transform': [10, 0, 499980, 0, -10, 5700000]}, {'id': 'B3_max', 'data_type': {'type': 'PixelType', 'precision': 'float'}, 'crs': 'EPSG:32611', 'crs_transform': [10, 0, 499980, 0, -10, 5700000]}, {'id': 'B2_max', 'data_type': {'type': 'PixelType', 'precision': 'float'}, 'crs': 'EPSG:32611', 'crs_transform': [10, 0, 499980, 0, -10, 5700000]}, {'id': 'B5_max', 'data_type': {'type': 'PixelType', 'precision': 'float'}, 'crs': 'EPSG:32611', 'crs_transform': [10, 0, 499980, 0, -10, 5700000]}], 'id': '202007', 'properties': {'system:time_start': 1593561600000, 'system:index': '202007'}}\n",
            "3 {'type': 'Image', 'bands': [{'id': 'B8_max', 'data_type': {'type': 'PixelType', 'precision': 'float'}, 'crs': 'EPSG:32611', 'crs_transform': [10, 0, 499980, 0, -10, 5700000]}, {'id': 'B4_max', 'data_type': {'type': 'PixelType', 'precision': 'float'}, 'crs': 'EPSG:32611', 'crs_transform': [10, 0, 499980, 0, -10, 5700000]}, {'id': 'B3_max', 'data_type': {'type': 'PixelType', 'precision': 'float'}, 'crs': 'EPSG:32611', 'crs_transform': [10, 0, 499980, 0, -10, 5700000]}, {'id': 'B2_max', 'data_type': {'type': 'PixelType', 'precision': 'float'}, 'crs': 'EPSG:32611', 'crs_transform': [10, 0, 499980, 0, -10, 5700000]}, {'id': 'B5_max', 'data_type': {'type': 'PixelType', 'precision': 'float'}, 'crs': 'EPSG:32611', 'crs_transform': [10, 0, 499980, 0, -10, 5700000]}], 'id': '202008', 'properties': {'system:time_start': 1596240000000, 'system:index': '202008'}}\n",
            "4 {'type': 'Image', 'bands': [{'id': 'B8_max', 'data_type': {'type': 'PixelType', 'precision': 'float'}, 'crs': 'EPSG:32611', 'crs_transform': [10, 0, 499980, 0, -10, 5700000]}, {'id': 'B4_max', 'data_type': {'type': 'PixelType', 'precision': 'float'}, 'crs': 'EPSG:32611', 'crs_transform': [10, 0, 499980, 0, -10, 5700000]}, {'id': 'B3_max', 'data_type': {'type': 'PixelType', 'precision': 'float'}, 'crs': 'EPSG:32611', 'crs_transform': [10, 0, 499980, 0, -10, 5700000]}, {'id': 'B2_max', 'data_type': {'type': 'PixelType', 'precision': 'float'}, 'crs': 'EPSG:32611', 'crs_transform': [10, 0, 499980, 0, -10, 5700000]}, {'id': 'B5_max', 'data_type': {'type': 'PixelType', 'precision': 'float'}, 'crs': 'EPSG:32611', 'crs_transform': [10, 0, 499980, 0, -10, 5700000]}], 'id': '202009', 'properties': {'system:time_start': 1598918400000, 'system:index': '202009'}}\n"
          ]
        }
      ]
    }
  ]
}
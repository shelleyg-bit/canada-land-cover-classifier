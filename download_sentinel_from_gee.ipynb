{
  "nbformat": 4,
  "nbformat_minor": 0,
  "metadata": {
    "colab": {
      "name": "download_sentinel_from_gee.ipynb",
      "provenance": [],
      "collapsed_sections": [],
      "mount_file_id": "1P__Q5QS5OtUebQ2JtPn_IFGWhXV94hqw",
      "authorship_tag": "ABX9TyOy6wVdkC5JAlrOaDfy1RfN",
      "include_colab_link": true
    },
    "kernelspec": {
      "name": "python3",
      "display_name": "Python 3"
    },
    "language_info": {
      "name": "python"
    },
    "widgets": {
      "application/vnd.jupyter.widget-state+json": {
        "8ad1d96b380b45c680947d494dbae1af": {
          "model_module": "jupyter-leaflet",
          "model_name": "LeafletMapModel",
          "model_module_version": "^0.16.0",
          "state": {
            "_dom_classes": [],
            "_model_module": "jupyter-leaflet",
            "_model_module_version": "^0.16.0",
            "_model_name": "LeafletMapModel",
            "_view_count": null,
            "_view_module": "jupyter-leaflet",
            "_view_module_version": "^0.16.0",
            "_view_name": "LeafletMapView",
            "bottom": 187222,
            "bounce_at_zoom_limits": true,
            "box_zoom": true,
            "center": [
              45.80870039713958,
              -71.14162445068361
            ],
            "close_popup_on_click": true,
            "controls": [
              "IPY_MODEL_4b44f67ebe4a4b439fc910838da586bc",
              "IPY_MODEL_57edbe4449724402b557dbd2dfb95564",
              "IPY_MODEL_223e59023a5e44ac9c776c63af00eaa4",
              "IPY_MODEL_423f9512b3e44e0cb68366fdc4137c1e",
              "IPY_MODEL_0ef36bdd16a4447aad6612587f6e5646",
              "IPY_MODEL_a2aa5e43d46b4ea78e259d450144f2b8",
              "IPY_MODEL_bb3f53566883494b84e94833dede9d14",
              "IPY_MODEL_f98dccb14fd34b3d86302733bc3699dd"
            ],
            "crs": {
              "name": "EPSG3857",
              "custom": false
            },
            "default_style": "IPY_MODEL_e990cb93192640b29ac9a564b1568a34",
            "double_click_zoom": true,
            "dragging": true,
            "dragging_style": "IPY_MODEL_69b7ddcbf8fd417b92107d034bc27c2f",
            "east": -70.84877014160158,
            "fullscreen": false,
            "inertia": true,
            "inertia_deceleration": 3000,
            "inertia_max_speed": 1500,
            "interpolation": "bilinear",
            "keyboard": true,
            "keyboard_pan_offset": 80,
            "keyboard_zoom_offset": 1,
            "layers": [
              "IPY_MODEL_3cdaf679209948e1bb85dd9105505cb0",
              "IPY_MODEL_a17756bad2c24ae6995d65ccb7170729",
              "IPY_MODEL_b73c92c5dba84ba4897f12513fabd36c",
              "IPY_MODEL_1315cab769d744a89caedcf57072e304"
            ],
            "layout": "IPY_MODEL_cdd2f7f88f9840838c94650ee2336bd7",
            "left": 158110,
            "max_zoom": 24,
            "min_zoom": 1,
            "modisdate": "2022-05-23",
            "north": 45.952104488469985,
            "options": [
              "bounce_at_zoom_limits",
              "box_zoom",
              "center",
              "close_popup_on_click",
              "double_click_zoom",
              "dragging",
              "fullscreen",
              "inertia",
              "inertia_deceleration",
              "inertia_max_speed",
              "interpolation",
              "keyboard",
              "keyboard_pan_offset",
              "keyboard_zoom_offset",
              "max_zoom",
              "min_zoom",
              "prefer_canvas",
              "scroll_wheel_zoom",
              "tap",
              "tap_tolerance",
              "touch_zoom",
              "world_copy_jump",
              "zoom",
              "zoom_animation_threshold",
              "zoom_delta",
              "zoom_snap",
              "zoom_start"
            ],
            "prefer_canvas": false,
            "right": 158963,
            "scroll_wheel_zoom": true,
            "south": 45.664926152966025,
            "style": "IPY_MODEL_e990cb93192640b29ac9a564b1568a34",
            "tap": true,
            "tap_tolerance": 15,
            "top": 186622,
            "touch_zoom": true,
            "west": -71.43447875976564,
            "window_url": "https://6vq6edgo396-496ff2e9c6d22116-0-colab.googleusercontent.com/outputframe.html?vrz=colab-20220520-060047-RC01_450074641",
            "world_copy_jump": false,
            "zoom": 11,
            "zoom_animation_threshold": 4,
            "zoom_delta": 1,
            "zoom_snap": 1,
            "zoom_start": 12,
            "_dragging": false
          }
        },
        "4b44f67ebe4a4b439fc910838da586bc": {
          "model_module": "jupyter-leaflet",
          "model_name": "LeafletWidgetControlModel",
          "model_module_version": "^0.16.0",
          "state": {
            "_model_module": "jupyter-leaflet",
            "_model_module_version": "^0.16.0",
            "_model_name": "LeafletWidgetControlModel",
            "_view_count": null,
            "_view_module": "jupyter-leaflet",
            "_view_module_version": "^0.16.0",
            "_view_name": "LeafletWidgetControlView",
            "max_height": null,
            "max_width": null,
            "min_height": null,
            "min_width": null,
            "options": [
              "position",
              "transparent_bg"
            ],
            "position": "topleft",
            "transparent_bg": false,
            "widget": "IPY_MODEL_ddf4a9e83abc425583f1ca12f5368437"
          }
        },
        "57edbe4449724402b557dbd2dfb95564": {
          "model_module": "jupyter-leaflet",
          "model_name": "LeafletZoomControlModel",
          "model_module_version": "^0.16.0",
          "state": {
            "_model_module": "jupyter-leaflet",
            "_model_module_version": "^0.16.0",
            "_model_name": "LeafletZoomControlModel",
            "_view_count": null,
            "_view_module": "jupyter-leaflet",
            "_view_module_version": "^0.16.0",
            "_view_name": "LeafletZoomControlView",
            "options": [
              "position",
              "zoom_in_text",
              "zoom_in_title",
              "zoom_out_text",
              "zoom_out_title"
            ],
            "position": "topleft",
            "zoom_in_text": "+",
            "zoom_in_title": "Zoom in",
            "zoom_out_text": "-",
            "zoom_out_title": "Zoom out"
          }
        },
        "223e59023a5e44ac9c776c63af00eaa4": {
          "model_module": "jupyter-leaflet",
          "model_name": "LeafletScaleControlModel",
          "model_module_version": "^0.16.0",
          "state": {
            "_model_module": "jupyter-leaflet",
            "_model_module_version": "^0.16.0",
            "_model_name": "LeafletScaleControlModel",
            "_view_count": null,
            "_view_module": "jupyter-leaflet",
            "_view_module_version": "^0.16.0",
            "_view_name": "LeafletScaleControlView",
            "imperial": true,
            "max_width": 100,
            "metric": true,
            "options": [
              "imperial",
              "max_width",
              "metric",
              "position",
              "update_when_idle"
            ],
            "position": "bottomleft",
            "update_when_idle": false
          }
        },
        "423f9512b3e44e0cb68366fdc4137c1e": {
          "model_module": "jupyter-leaflet",
          "model_name": "LeafletFullScreenControlModel",
          "model_module_version": "^0.16.0",
          "state": {
            "_model_module": "jupyter-leaflet",
            "_model_module_version": "^0.16.0",
            "_model_name": "LeafletFullScreenControlModel",
            "_view_count": null,
            "_view_module": "jupyter-leaflet",
            "_view_module_version": "^0.16.0",
            "_view_name": "LeafletFullScreenControlView",
            "options": [
              "position"
            ],
            "position": "topleft"
          }
        },
        "0ef36bdd16a4447aad6612587f6e5646": {
          "model_module": "jupyter-leaflet",
          "model_name": "LeafletMeasureControlModel",
          "model_module_version": "^0.16.0",
          "state": {
            "_custom_units": {},
            "_model_module": "jupyter-leaflet",
            "_model_module_version": "^0.16.0",
            "_model_name": "LeafletMeasureControlModel",
            "_view_count": null,
            "_view_module": "jupyter-leaflet",
            "_view_module_version": "^0.16.0",
            "_view_name": "LeafletMeasureControlView",
            "active_color": "orange",
            "capture_z_index": 10000,
            "completed_color": "#C8F2BE",
            "options": [
              "active_color",
              "capture_z_index",
              "completed_color",
              "popup_options",
              "position",
              "primary_area_unit",
              "primary_length_unit",
              "secondary_area_unit",
              "secondary_length_unit"
            ],
            "popup_options": {
              "className": "leaflet-measure-resultpopup",
              "autoPanPadding": [
                10,
                10
              ]
            },
            "position": "bottomleft",
            "primary_area_unit": "acres",
            "primary_length_unit": "kilometers",
            "secondary_area_unit": null,
            "secondary_length_unit": null
          }
        },
        "a2aa5e43d46b4ea78e259d450144f2b8": {
          "model_module": "jupyter-leaflet",
          "model_name": "LeafletAttributionControlModel",
          "model_module_version": "^0.16.0",
          "state": {
            "_model_module": "jupyter-leaflet",
            "_model_module_version": "^0.16.0",
            "_model_name": "LeafletAttributionControlModel",
            "_view_count": null,
            "_view_module": "jupyter-leaflet",
            "_view_module_version": "^0.16.0",
            "_view_name": "LeafletAttributionControlView",
            "options": [
              "position",
              "prefix"
            ],
            "position": "bottomright",
            "prefix": "ipyleaflet"
          }
        },
        "bb3f53566883494b84e94833dede9d14": {
          "model_module": "jupyter-leaflet",
          "model_name": "LeafletDrawControlModel",
          "model_module_version": "^0.16.0",
          "state": {
            "_model_module": "jupyter-leaflet",
            "_model_module_version": "^0.16.0",
            "_model_name": "LeafletDrawControlModel",
            "_view_count": null,
            "_view_module": "jupyter-leaflet",
            "_view_module_version": "^0.16.0",
            "_view_name": "LeafletDrawControlView",
            "circle": {
              "shapeOptions": {
                "color": "#3388ff"
              }
            },
            "circlemarker": {},
            "data": [],
            "edit": true,
            "marker": {
              "shapeOptions": {
                "color": "#3388ff"
              }
            },
            "options": [
              "position"
            ],
            "polygon": {
              "shapeOptions": {}
            },
            "polyline": {
              "shapeOptions": {}
            },
            "position": "topleft",
            "rectangle": {
              "shapeOptions": {
                "color": "#3388ff"
              }
            },
            "remove": true
          }
        },
        "f98dccb14fd34b3d86302733bc3699dd": {
          "model_module": "jupyter-leaflet",
          "model_name": "LeafletWidgetControlModel",
          "model_module_version": "^0.16.0",
          "state": {
            "_model_module": "jupyter-leaflet",
            "_model_module_version": "^0.16.0",
            "_model_name": "LeafletWidgetControlModel",
            "_view_count": null,
            "_view_module": "jupyter-leaflet",
            "_view_module_version": "^0.16.0",
            "_view_name": "LeafletWidgetControlView",
            "max_height": null,
            "max_width": null,
            "min_height": null,
            "min_width": null,
            "options": [
              "position",
              "transparent_bg"
            ],
            "position": "topright",
            "transparent_bg": false,
            "widget": "IPY_MODEL_8845a6fbfb764e7c82d32d2426960800"
          }
        },
        "e990cb93192640b29ac9a564b1568a34": {
          "model_module": "jupyter-leaflet",
          "model_name": "LeafletMapStyleModel",
          "model_module_version": "^0.16.0",
          "state": {
            "_model_module": "jupyter-leaflet",
            "_model_module_version": "^0.16.0",
            "_model_name": "LeafletMapStyleModel",
            "_view_count": null,
            "_view_module": "@jupyter-widgets/base",
            "_view_module_version": "1.2.0",
            "_view_name": "StyleView",
            "cursor": "grab"
          }
        },
        "69b7ddcbf8fd417b92107d034bc27c2f": {
          "model_module": "jupyter-leaflet",
          "model_name": "LeafletMapStyleModel",
          "model_module_version": "^0.16.0",
          "state": {
            "_model_module": "jupyter-leaflet",
            "_model_module_version": "^0.16.0",
            "_model_name": "LeafletMapStyleModel",
            "_view_count": null,
            "_view_module": "@jupyter-widgets/base",
            "_view_module_version": "1.2.0",
            "_view_name": "StyleView",
            "cursor": "move"
          }
        },
        "3cdaf679209948e1bb85dd9105505cb0": {
          "model_module": "jupyter-leaflet",
          "model_name": "LeafletTileLayerModel",
          "model_module_version": "^0.16.0",
          "state": {
            "_model_module": "jupyter-leaflet",
            "_model_module_version": "^0.16.0",
            "_model_name": "LeafletTileLayerModel",
            "_view_count": null,
            "_view_module": "jupyter-leaflet",
            "_view_module_version": "^0.16.0",
            "_view_name": "LeafletTileLayerView",
            "attribution": "&copy; <a href=\"https://www.openstreetmap.org/copyright\">OpenStreetMap</a> contributors",
            "base": true,
            "bottom": true,
            "bounds": null,
            "detect_retina": false,
            "loading": false,
            "max_native_zoom": 18,
            "max_zoom": 19,
            "min_native_zoom": 0,
            "min_zoom": 1,
            "name": "OpenStreetMap.Mapnik",
            "no_wrap": false,
            "opacity": 1,
            "options": [
              "attribution",
              "bounds",
              "detect_retina",
              "max_native_zoom",
              "max_zoom",
              "min_native_zoom",
              "min_zoom",
              "no_wrap",
              "tile_size",
              "tms"
            ],
            "popup": null,
            "popup_max_height": null,
            "popup_max_width": 300,
            "popup_min_width": 50,
            "show_loading": false,
            "tile_size": 256,
            "tms": false,
            "url": "https://a.tile.openstreetmap.org/{z}/{x}/{y}.png",
            "visible": true
          }
        },
        "a17756bad2c24ae6995d65ccb7170729": {
          "model_module": "jupyter-leaflet",
          "model_name": "LeafletTileLayerModel",
          "model_module_version": "^0.16.0",
          "state": {
            "_model_module": "jupyter-leaflet",
            "_model_module_version": "^0.16.0",
            "_model_name": "LeafletTileLayerModel",
            "_view_count": null,
            "_view_module": "jupyter-leaflet",
            "_view_module_version": "^0.16.0",
            "_view_name": "LeafletTileLayerView",
            "attribution": "Google",
            "base": false,
            "bottom": true,
            "bounds": null,
            "detect_retina": false,
            "loading": false,
            "max_native_zoom": 18,
            "max_zoom": 22,
            "min_native_zoom": 0,
            "min_zoom": 0,
            "name": "Google Maps",
            "no_wrap": false,
            "opacity": 1,
            "options": [
              "attribution",
              "bounds",
              "detect_retina",
              "max_native_zoom",
              "max_zoom",
              "min_native_zoom",
              "min_zoom",
              "no_wrap",
              "tile_size",
              "tms"
            ],
            "popup": null,
            "popup_max_height": null,
            "popup_max_width": 300,
            "popup_min_width": 50,
            "show_loading": false,
            "tile_size": 256,
            "tms": false,
            "url": "https://mt1.google.com/vt/lyrs=m&x={x}&y={y}&z={z}",
            "visible": true
          }
        },
        "b73c92c5dba84ba4897f12513fabd36c": {
          "model_module": "jupyter-leaflet",
          "model_name": "LeafletTileLayerModel",
          "model_module_version": "^0.16.0",
          "state": {
            "_model_module": "jupyter-leaflet",
            "_model_module_version": "^0.16.0",
            "_model_name": "LeafletTileLayerModel",
            "_view_count": null,
            "_view_module": "jupyter-leaflet",
            "_view_module_version": "^0.16.0",
            "_view_name": "LeafletTileLayerView",
            "attribution": "Google Earth Engine",
            "base": false,
            "bottom": true,
            "bounds": null,
            "detect_retina": false,
            "loading": false,
            "max_native_zoom": 18,
            "max_zoom": 24,
            "min_native_zoom": 0,
            "min_zoom": 0,
            "name": "AOI",
            "no_wrap": false,
            "opacity": 0.5,
            "options": [
              "attribution",
              "bounds",
              "detect_retina",
              "max_native_zoom",
              "max_zoom",
              "min_native_zoom",
              "min_zoom",
              "no_wrap",
              "tile_size",
              "tms"
            ],
            "popup": null,
            "popup_max_height": null,
            "popup_max_width": 300,
            "popup_min_width": 50,
            "show_loading": false,
            "tile_size": 256,
            "tms": false,
            "url": "https://earthengine.googleapis.com/v1alpha/projects/earthengine-legacy/maps/6bf3545c2b60a4936c4a210ee79d71dd-e9b5e778c11db2b6fcfa6ca9795a124b/tiles/{z}/{x}/{y}",
            "visible": true
          }
        },
        "1315cab769d744a89caedcf57072e304": {
          "model_module": "jupyter-leaflet",
          "model_name": "LeafletTileLayerModel",
          "model_module_version": "^0.16.0",
          "state": {
            "_model_module": "jupyter-leaflet",
            "_model_module_version": "^0.16.0",
            "_model_name": "LeafletTileLayerModel",
            "_view_count": null,
            "_view_module": "jupyter-leaflet",
            "_view_module_version": "^0.16.0",
            "_view_name": "LeafletTileLayerView",
            "attribution": "Google Earth Engine",
            "base": false,
            "bottom": true,
            "bounds": null,
            "detect_retina": false,
            "loading": false,
            "max_native_zoom": 18,
            "max_zoom": 24,
            "min_native_zoom": 0,
            "min_zoom": 0,
            "name": "false(B8,B4,B3)",
            "no_wrap": false,
            "opacity": 1,
            "options": [
              "attribution",
              "bounds",
              "detect_retina",
              "max_native_zoom",
              "max_zoom",
              "min_native_zoom",
              "min_zoom",
              "no_wrap",
              "tile_size",
              "tms"
            ],
            "popup": null,
            "popup_max_height": null,
            "popup_max_width": 300,
            "popup_min_width": 50,
            "show_loading": false,
            "tile_size": 256,
            "tms": false,
            "url": "https://earthengine.googleapis.com/v1alpha/projects/earthengine-legacy/maps/06073f999b7bf050aa2f6d6bd005fa32-6ebe73177527f6e939744639c812a64c/tiles/{z}/{x}/{y}",
            "visible": true
          }
        },
        "cdd2f7f88f9840838c94650ee2336bd7": {
          "model_module": "@jupyter-widgets/base",
          "model_name": "LayoutModel",
          "model_module_version": "1.2.0",
          "state": {
            "_model_module": "@jupyter-widgets/base",
            "_model_module_version": "1.2.0",
            "_model_name": "LayoutModel",
            "_view_count": null,
            "_view_module": "@jupyter-widgets/base",
            "_view_module_version": "1.2.0",
            "_view_name": "LayoutView",
            "align_content": null,
            "align_items": null,
            "align_self": null,
            "border": null,
            "bottom": null,
            "display": null,
            "flex": null,
            "flex_flow": null,
            "grid_area": null,
            "grid_auto_columns": null,
            "grid_auto_flow": null,
            "grid_auto_rows": null,
            "grid_column": null,
            "grid_gap": null,
            "grid_row": null,
            "grid_template_areas": null,
            "grid_template_columns": null,
            "grid_template_rows": null,
            "height": "600px",
            "justify_content": null,
            "justify_items": null,
            "left": null,
            "margin": null,
            "max_height": null,
            "max_width": null,
            "min_height": null,
            "min_width": null,
            "object_fit": null,
            "object_position": null,
            "order": null,
            "overflow": null,
            "overflow_x": null,
            "overflow_y": null,
            "padding": null,
            "right": null,
            "top": null,
            "visibility": null,
            "width": null
          }
        },
        "ba933b8603374b009fbabd35f74f3df2": {
          "model_module": "jupyter-leaflet",
          "model_name": "LeafletMapStyleModel",
          "model_module_version": "^0.16.0",
          "state": {
            "_model_module": "jupyter-leaflet",
            "_model_module_version": "^0.16.0",
            "_model_name": "LeafletMapStyleModel",
            "_view_count": null,
            "_view_module": "@jupyter-widgets/base",
            "_view_module_version": "1.2.0",
            "_view_name": "StyleView",
            "cursor": "grab"
          }
        },
        "ddf4a9e83abc425583f1ca12f5368437": {
          "model_module": "@jupyter-widgets/controls",
          "model_name": "HBoxModel",
          "model_module_version": "1.5.0",
          "state": {
            "_dom_classes": [],
            "_model_module": "@jupyter-widgets/controls",
            "_model_module_version": "1.5.0",
            "_model_name": "HBoxModel",
            "_view_count": null,
            "_view_module": "@jupyter-widgets/controls",
            "_view_module_version": "1.5.0",
            "_view_name": "HBoxView",
            "box_style": "",
            "children": [
              "IPY_MODEL_5c08aef9ccb04888b3b1178e7cfed249"
            ],
            "layout": "IPY_MODEL_d96a1f0689ff493aacdaf5dd6774bd52"
          }
        },
        "8845a6fbfb764e7c82d32d2426960800": {
          "model_module": "@jupyter-widgets/controls",
          "model_name": "VBoxModel",
          "model_module_version": "1.5.0",
          "state": {
            "_dom_classes": [],
            "_model_module": "@jupyter-widgets/controls",
            "_model_module_version": "1.5.0",
            "_model_name": "VBoxModel",
            "_view_count": null,
            "_view_module": "@jupyter-widgets/controls",
            "_view_module_version": "1.5.0",
            "_view_name": "VBoxView",
            "box_style": "",
            "children": [
              "IPY_MODEL_45cf5143d006471c92351c16398e3686"
            ],
            "layout": "IPY_MODEL_f5a4a395ce4c40b4bd7629d8c760e6cc"
          }
        },
        "5c08aef9ccb04888b3b1178e7cfed249": {
          "model_module": "@jupyter-widgets/controls",
          "model_name": "ToggleButtonModel",
          "model_module_version": "1.5.0",
          "state": {
            "_dom_classes": [],
            "_model_module": "@jupyter-widgets/controls",
            "_model_module_version": "1.5.0",
            "_model_name": "ToggleButtonModel",
            "_view_count": null,
            "_view_module": "@jupyter-widgets/controls",
            "_view_module_version": "1.5.0",
            "_view_name": "ToggleButtonView",
            "button_style": "",
            "description": "",
            "description_tooltip": null,
            "disabled": false,
            "icon": "globe",
            "layout": "IPY_MODEL_4753f21ae99841a0982518354e511a26",
            "style": "IPY_MODEL_089634bf603f4d429fd3c1937b2af12b",
            "tooltip": "Search location/data",
            "value": false
          }
        },
        "d96a1f0689ff493aacdaf5dd6774bd52": {
          "model_module": "@jupyter-widgets/base",
          "model_name": "LayoutModel",
          "model_module_version": "1.2.0",
          "state": {
            "_model_module": "@jupyter-widgets/base",
            "_model_module_version": "1.2.0",
            "_model_name": "LayoutModel",
            "_view_count": null,
            "_view_module": "@jupyter-widgets/base",
            "_view_module_version": "1.2.0",
            "_view_name": "LayoutView",
            "align_content": null,
            "align_items": null,
            "align_self": null,
            "border": null,
            "bottom": null,
            "display": null,
            "flex": null,
            "flex_flow": null,
            "grid_area": null,
            "grid_auto_columns": null,
            "grid_auto_flow": null,
            "grid_auto_rows": null,
            "grid_column": null,
            "grid_gap": null,
            "grid_row": null,
            "grid_template_areas": null,
            "grid_template_columns": null,
            "grid_template_rows": null,
            "height": null,
            "justify_content": null,
            "justify_items": null,
            "left": null,
            "margin": null,
            "max_height": null,
            "max_width": null,
            "min_height": null,
            "min_width": null,
            "object_fit": null,
            "object_position": null,
            "order": null,
            "overflow": null,
            "overflow_x": null,
            "overflow_y": null,
            "padding": null,
            "right": null,
            "top": null,
            "visibility": null,
            "width": null
          }
        },
        "45cf5143d006471c92351c16398e3686": {
          "model_module": "@jupyter-widgets/controls",
          "model_name": "ToggleButtonModel",
          "model_module_version": "1.5.0",
          "state": {
            "_dom_classes": [],
            "_model_module": "@jupyter-widgets/controls",
            "_model_module_version": "1.5.0",
            "_model_name": "ToggleButtonModel",
            "_view_count": null,
            "_view_module": "@jupyter-widgets/controls",
            "_view_module_version": "1.5.0",
            "_view_name": "ToggleButtonView",
            "button_style": "",
            "description": "",
            "description_tooltip": null,
            "disabled": false,
            "icon": "wrench",
            "layout": "IPY_MODEL_45cc37f4bc404c9cb7f1db83d436018f",
            "style": "IPY_MODEL_a05b1372461e44149bca6e142928f7cc",
            "tooltip": "Toolbar",
            "value": false
          }
        },
        "f5a4a395ce4c40b4bd7629d8c760e6cc": {
          "model_module": "@jupyter-widgets/base",
          "model_name": "LayoutModel",
          "model_module_version": "1.2.0",
          "state": {
            "_model_module": "@jupyter-widgets/base",
            "_model_module_version": "1.2.0",
            "_model_name": "LayoutModel",
            "_view_count": null,
            "_view_module": "@jupyter-widgets/base",
            "_view_module_version": "1.2.0",
            "_view_name": "LayoutView",
            "align_content": null,
            "align_items": null,
            "align_self": null,
            "border": null,
            "bottom": null,
            "display": null,
            "flex": null,
            "flex_flow": null,
            "grid_area": null,
            "grid_auto_columns": null,
            "grid_auto_flow": null,
            "grid_auto_rows": null,
            "grid_column": null,
            "grid_gap": null,
            "grid_row": null,
            "grid_template_areas": null,
            "grid_template_columns": null,
            "grid_template_rows": null,
            "height": null,
            "justify_content": null,
            "justify_items": null,
            "left": null,
            "margin": null,
            "max_height": null,
            "max_width": null,
            "min_height": null,
            "min_width": null,
            "object_fit": null,
            "object_position": null,
            "order": null,
            "overflow": null,
            "overflow_x": null,
            "overflow_y": null,
            "padding": null,
            "right": null,
            "top": null,
            "visibility": null,
            "width": null
          }
        },
        "4753f21ae99841a0982518354e511a26": {
          "model_module": "@jupyter-widgets/base",
          "model_name": "LayoutModel",
          "model_module_version": "1.2.0",
          "state": {
            "_model_module": "@jupyter-widgets/base",
            "_model_module_version": "1.2.0",
            "_model_name": "LayoutModel",
            "_view_count": null,
            "_view_module": "@jupyter-widgets/base",
            "_view_module_version": "1.2.0",
            "_view_name": "LayoutView",
            "align_content": null,
            "align_items": null,
            "align_self": null,
            "border": null,
            "bottom": null,
            "display": null,
            "flex": null,
            "flex_flow": null,
            "grid_area": null,
            "grid_auto_columns": null,
            "grid_auto_flow": null,
            "grid_auto_rows": null,
            "grid_column": null,
            "grid_gap": null,
            "grid_row": null,
            "grid_template_areas": null,
            "grid_template_columns": null,
            "grid_template_rows": null,
            "height": "28px",
            "justify_content": null,
            "justify_items": null,
            "left": null,
            "margin": null,
            "max_height": null,
            "max_width": null,
            "min_height": null,
            "min_width": null,
            "object_fit": null,
            "object_position": null,
            "order": null,
            "overflow": null,
            "overflow_x": null,
            "overflow_y": null,
            "padding": "0px 0px 0px 4px",
            "right": null,
            "top": null,
            "visibility": null,
            "width": "28px"
          }
        },
        "089634bf603f4d429fd3c1937b2af12b": {
          "model_module": "@jupyter-widgets/controls",
          "model_name": "DescriptionStyleModel",
          "model_module_version": "1.5.0",
          "state": {
            "_model_module": "@jupyter-widgets/controls",
            "_model_module_version": "1.5.0",
            "_model_name": "DescriptionStyleModel",
            "_view_count": null,
            "_view_module": "@jupyter-widgets/base",
            "_view_module_version": "1.2.0",
            "_view_name": "StyleView",
            "description_width": ""
          }
        },
        "45cc37f4bc404c9cb7f1db83d436018f": {
          "model_module": "@jupyter-widgets/base",
          "model_name": "LayoutModel",
          "model_module_version": "1.2.0",
          "state": {
            "_model_module": "@jupyter-widgets/base",
            "_model_module_version": "1.2.0",
            "_model_name": "LayoutModel",
            "_view_count": null,
            "_view_module": "@jupyter-widgets/base",
            "_view_module_version": "1.2.0",
            "_view_name": "LayoutView",
            "align_content": null,
            "align_items": null,
            "align_self": null,
            "border": null,
            "bottom": null,
            "display": null,
            "flex": null,
            "flex_flow": null,
            "grid_area": null,
            "grid_auto_columns": null,
            "grid_auto_flow": null,
            "grid_auto_rows": null,
            "grid_column": null,
            "grid_gap": null,
            "grid_row": null,
            "grid_template_areas": null,
            "grid_template_columns": null,
            "grid_template_rows": null,
            "height": "28px",
            "justify_content": null,
            "justify_items": null,
            "left": null,
            "margin": null,
            "max_height": null,
            "max_width": null,
            "min_height": null,
            "min_width": null,
            "object_fit": null,
            "object_position": null,
            "order": null,
            "overflow": null,
            "overflow_x": null,
            "overflow_y": null,
            "padding": "0px 0px 0px 4px",
            "right": null,
            "top": null,
            "visibility": null,
            "width": "28px"
          }
        },
        "a05b1372461e44149bca6e142928f7cc": {
          "model_module": "@jupyter-widgets/controls",
          "model_name": "DescriptionStyleModel",
          "model_module_version": "1.5.0",
          "state": {
            "_model_module": "@jupyter-widgets/controls",
            "_model_module_version": "1.5.0",
            "_model_name": "DescriptionStyleModel",
            "_view_count": null,
            "_view_module": "@jupyter-widgets/base",
            "_view_module_version": "1.2.0",
            "_view_name": "StyleView",
            "description_width": ""
          }
        }
      }
    }
  },
  "cells": [
    {
      "cell_type": "markdown",
      "metadata": {
        "id": "view-in-github",
        "colab_type": "text"
      },
      "source": [
        "<a href=\"https://colab.research.google.com/github/shelleyg-bit/canada-land-cover-classifier/blob/main/download_sentinel_from_gee.ipynb\" target=\"_parent\"><img src=\"https://colab.research.google.com/assets/colab-badge.svg\" alt=\"Open In Colab\"/></a>"
      ]
    },
    {
      "cell_type": "code",
      "execution_count": 1,
      "metadata": {
        "id": "dj0_fCckypjl"
      },
      "outputs": [],
      "source": [
        "import ee"
      ]
    },
    {
      "cell_type": "code",
      "source": [
        "ee.Authenticate()\n",
        "ee.Initialize()"
      ],
      "metadata": {
        "colab": {
          "base_uri": "https://localhost:8080/"
        },
        "id": "srBfxgM-kuvi",
        "outputId": "6719f259-9976-4481-dba0-d1e0b87fada4"
      },
      "execution_count": 2,
      "outputs": [
        {
          "output_type": "stream",
          "name": "stdout",
          "text": [
            "To authorize access needed by Earth Engine, open the following URL in a web browser and follow the instructions. If the web browser does not start automatically, please manually browse the URL below.\n",
            "\n",
            "    https://code.earthengine.google.com/client-auth?scopes=https%3A//www.googleapis.com/auth/earthengine%20https%3A//www.googleapis.com/auth/devstorage.full_control&request_id=amLHPLxf9fR2ZaBEdQNngtZUshJyt1lwkg4wVylWT-U&tc=M3b-zB3H2DYY0i0tfn38Y9-k8Ny8d5IkEMZP2kHRDIY&cc=Ez2ss-ryp3sTJ9wfL_HRLT-JVpgXlwx9CeG_k7y3afY\n",
            "\n",
            "The authorization workflow will generate a code, which you should paste in the box below. \n",
            "Enter verification code: 4/1AX4XfWiG76raa1e0ZVSjoAna4OdlpKi3tDFCNsDI09sxVf2fYyjDG3M5xVw\n",
            "\n",
            "Successfully saved authorization token.\n"
          ]
        }
      ]
    },
    {
      "cell_type": "markdown",
      "source": [
        "# Install Dependencies"
      ],
      "metadata": {
        "id": "y1sP3Nz20zAx"
      }
    },
    {
      "cell_type": "code",
      "source": [
        "!pip install geopandas rasterio geemap "
      ],
      "metadata": {
        "id": "TEsgqMv7lYPr"
      },
      "execution_count": null,
      "outputs": []
    },
    {
      "cell_type": "code",
      "source": [
        "import rasterio as rio\n",
        "import geopandas as gpd\n",
        "from matplotlib import pyplot as plt"
      ],
      "metadata": {
        "id": "yHAFU1KwkziH"
      },
      "execution_count": 15,
      "outputs": []
    },
    {
      "cell_type": "code",
      "source": [
        "!gdalinfo /content/drive/MyDrive/nrcan/lc_data/aoi_512x512/aoi4_lc_021 "
      ],
      "metadata": {
        "colab": {
          "base_uri": "https://localhost:8080/"
        },
        "id": "y_JcXqMiMOAr",
        "outputId": "c4047550-265d-4a16-ad4f-b22bd636ec4f"
      },
      "execution_count": 16,
      "outputs": [
        {
          "output_type": "stream",
          "name": "stdout",
          "text": [
            "Driver: GTiff/GeoTIFF\n",
            "Files: /content/drive/MyDrive/nrcan/lc_data/aoi_512x512/aoi4_lc_021\n",
            "Size is 512, 512\n",
            "Coordinate System is:\n",
            "PROJCS[\"NAD83 / Canada Atlas Lambert\",\n",
            "    GEOGCS[\"NAD83\",\n",
            "        DATUM[\"North_American_Datum_1983\",\n",
            "            SPHEROID[\"GRS 1980\",6378137,298.257222101,\n",
            "                AUTHORITY[\"EPSG\",\"7019\"]],\n",
            "            TOWGS84[0,0,0,0,0,0,0],\n",
            "            AUTHORITY[\"EPSG\",\"6269\"]],\n",
            "        PRIMEM[\"Greenwich\",0,\n",
            "            AUTHORITY[\"EPSG\",\"8901\"]],\n",
            "        UNIT[\"degree\",0.0174532925199433,\n",
            "            AUTHORITY[\"EPSG\",\"9122\"]],\n",
            "        AUTHORITY[\"EPSG\",\"4269\"]],\n",
            "    PROJECTION[\"Lambert_Conformal_Conic_2SP\"],\n",
            "    PARAMETER[\"standard_parallel_1\",49],\n",
            "    PARAMETER[\"standard_parallel_2\",77],\n",
            "    PARAMETER[\"latitude_of_origin\",49],\n",
            "    PARAMETER[\"central_meridian\",-95],\n",
            "    PARAMETER[\"false_easting\",0],\n",
            "    PARAMETER[\"false_northing\",0],\n",
            "    UNIT[\"metre\",1,\n",
            "        AUTHORITY[\"EPSG\",\"9001\"]],\n",
            "    AXIS[\"Easting\",EAST],\n",
            "    AXIS[\"Northing\",NORTH],\n",
            "    AUTHORITY[\"EPSG\",\"3978\"]]\n",
            "Origin = (-119370.270117912907153,788205.289478012826294)\n",
            "Pixel Size = (30.000000000000000,-30.000000000000000)\n",
            "Metadata:\n",
            "  AREA_OR_POINT=Area\n",
            "Image Structure Metadata:\n",
            "  COMPRESSION=LZW\n",
            "  INTERLEAVE=BAND\n",
            "Corner Coordinates:\n",
            "Upper Left  ( -119370.270,  788205.289) ( 96d57'48.08\"W, 56d 9' 4.04\"N)\n",
            "Lower Left  ( -119370.270,  772845.289) ( 96d57'20.12\"W, 56d 0'36.78\"N)\n",
            "Upper Right ( -104010.270,  788205.289) ( 96d42'39.06\"W, 56d 9'18.69\"N)\n",
            "Lower Right ( -104010.270,  772845.289) ( 96d42'14.70\"W, 56d 0'51.38\"N)\n",
            "Center      ( -111690.270,  780525.289) ( 96d50' 0.49\"W, 56d 4'57.96\"N)\n",
            "Band 1 Block=128x128 Type=Byte, ColorInterp=Gray\n",
            "  NoData Value=255\n"
          ]
        }
      ]
    },
    {
      "cell_type": "markdown",
      "source": [
        "# Prepare BBox"
      ],
      "metadata": {
        "id": "RVoP3nLYoGMa"
      }
    },
    {
      "cell_type": "code",
      "source": [
        "from shapely.geometry import Polygon\n",
        "\n",
        "def get_aoi_gdf(aoi_tifname):\n",
        "  with rio.open(aoi_tifname, 'r') as src:\n",
        "    l, b, r, t = src.bounds\n",
        "    bbox = Polygon([(l, b), (l, t), (r, t), (r, b)])\n",
        "    aoi_gdf = gpd.GeoDataFrame({'geometry': [bbox]}, crs=src.profile['crs'])\n",
        "  return aoi_gdf\n",
        "\n"
      ],
      "metadata": {
        "id": "3nl5sjA3x7ws"
      },
      "execution_count": 19,
      "outputs": []
    },
    {
      "cell_type": "code",
      "source": [
        "a = get_aoi_gdf('/content/drive/MyDrive/nrcan/lc_data/aoi_512x512/aoi4_lc_021')\n",
        "a"
      ],
      "metadata": {
        "colab": {
          "base_uri": "https://localhost:8080/",
          "height": 81
        },
        "id": "ukLWyq8q1azw",
        "outputId": "966613f0-5dab-4e11-a4a2-041222e98d83"
      },
      "execution_count": 22,
      "outputs": [
        {
          "output_type": "execute_result",
          "data": {
            "text/plain": [
              "                                            geometry\n",
              "0  POLYGON ((-119370.270 772845.289, -119370.270 ..."
            ],
            "text/html": [
              "\n",
              "  <div id=\"df-3bbc1241-6004-4c71-9d8f-87c13e0a49a1\">\n",
              "    <div class=\"colab-df-container\">\n",
              "      <div>\n",
              "<style scoped>\n",
              "    .dataframe tbody tr th:only-of-type {\n",
              "        vertical-align: middle;\n",
              "    }\n",
              "\n",
              "    .dataframe tbody tr th {\n",
              "        vertical-align: top;\n",
              "    }\n",
              "\n",
              "    .dataframe thead th {\n",
              "        text-align: right;\n",
              "    }\n",
              "</style>\n",
              "<table border=\"1\" class=\"dataframe\">\n",
              "  <thead>\n",
              "    <tr style=\"text-align: right;\">\n",
              "      <th></th>\n",
              "      <th>geometry</th>\n",
              "    </tr>\n",
              "  </thead>\n",
              "  <tbody>\n",
              "    <tr>\n",
              "      <th>0</th>\n",
              "      <td>POLYGON ((-119370.270 772845.289, -119370.270 ...</td>\n",
              "    </tr>\n",
              "  </tbody>\n",
              "</table>\n",
              "</div>\n",
              "      <button class=\"colab-df-convert\" onclick=\"convertToInteractive('df-3bbc1241-6004-4c71-9d8f-87c13e0a49a1')\"\n",
              "              title=\"Convert this dataframe to an interactive table.\"\n",
              "              style=\"display:none;\">\n",
              "        \n",
              "  <svg xmlns=\"http://www.w3.org/2000/svg\" height=\"24px\"viewBox=\"0 0 24 24\"\n",
              "       width=\"24px\">\n",
              "    <path d=\"M0 0h24v24H0V0z\" fill=\"none\"/>\n",
              "    <path d=\"M18.56 5.44l.94 2.06.94-2.06 2.06-.94-2.06-.94-.94-2.06-.94 2.06-2.06.94zm-11 1L8.5 8.5l.94-2.06 2.06-.94-2.06-.94L8.5 2.5l-.94 2.06-2.06.94zm10 10l.94 2.06.94-2.06 2.06-.94-2.06-.94-.94-2.06-.94 2.06-2.06.94z\"/><path d=\"M17.41 7.96l-1.37-1.37c-.4-.4-.92-.59-1.43-.59-.52 0-1.04.2-1.43.59L10.3 9.45l-7.72 7.72c-.78.78-.78 2.05 0 2.83L4 21.41c.39.39.9.59 1.41.59.51 0 1.02-.2 1.41-.59l7.78-7.78 2.81-2.81c.8-.78.8-2.07 0-2.86zM5.41 20L4 18.59l7.72-7.72 1.47 1.35L5.41 20z\"/>\n",
              "  </svg>\n",
              "      </button>\n",
              "      \n",
              "  <style>\n",
              "    .colab-df-container {\n",
              "      display:flex;\n",
              "      flex-wrap:wrap;\n",
              "      gap: 12px;\n",
              "    }\n",
              "\n",
              "    .colab-df-convert {\n",
              "      background-color: #E8F0FE;\n",
              "      border: none;\n",
              "      border-radius: 50%;\n",
              "      cursor: pointer;\n",
              "      display: none;\n",
              "      fill: #1967D2;\n",
              "      height: 32px;\n",
              "      padding: 0 0 0 0;\n",
              "      width: 32px;\n",
              "    }\n",
              "\n",
              "    .colab-df-convert:hover {\n",
              "      background-color: #E2EBFA;\n",
              "      box-shadow: 0px 1px 2px rgba(60, 64, 67, 0.3), 0px 1px 3px 1px rgba(60, 64, 67, 0.15);\n",
              "      fill: #174EA6;\n",
              "    }\n",
              "\n",
              "    [theme=dark] .colab-df-convert {\n",
              "      background-color: #3B4455;\n",
              "      fill: #D2E3FC;\n",
              "    }\n",
              "\n",
              "    [theme=dark] .colab-df-convert:hover {\n",
              "      background-color: #434B5C;\n",
              "      box-shadow: 0px 1px 3px 1px rgba(0, 0, 0, 0.15);\n",
              "      filter: drop-shadow(0px 1px 2px rgba(0, 0, 0, 0.3));\n",
              "      fill: #FFFFFF;\n",
              "    }\n",
              "  </style>\n",
              "\n",
              "      <script>\n",
              "        const buttonEl =\n",
              "          document.querySelector('#df-3bbc1241-6004-4c71-9d8f-87c13e0a49a1 button.colab-df-convert');\n",
              "        buttonEl.style.display =\n",
              "          google.colab.kernel.accessAllowed ? 'block' : 'none';\n",
              "\n",
              "        async function convertToInteractive(key) {\n",
              "          const element = document.querySelector('#df-3bbc1241-6004-4c71-9d8f-87c13e0a49a1');\n",
              "          const dataTable =\n",
              "            await google.colab.kernel.invokeFunction('convertToInteractive',\n",
              "                                                     [key], {});\n",
              "          if (!dataTable) return;\n",
              "\n",
              "          const docLinkHtml = 'Like what you see? Visit the ' +\n",
              "            '<a target=\"_blank\" href=https://colab.research.google.com/notebooks/data_table.ipynb>data table notebook</a>'\n",
              "            + ' to learn more about interactive tables.';\n",
              "          element.innerHTML = '';\n",
              "          dataTable['output_type'] = 'display_data';\n",
              "          await google.colab.output.renderOutput(dataTable, element);\n",
              "          const docLink = document.createElement('div');\n",
              "          docLink.innerHTML = docLinkHtml;\n",
              "          element.appendChild(docLink);\n",
              "        }\n",
              "      </script>\n",
              "    </div>\n",
              "  </div>\n",
              "  "
            ]
          },
          "metadata": {},
          "execution_count": 22
        }
      ]
    },
    {
      "cell_type": "markdown",
      "source": [
        "# Get Sentinel Images"
      ],
      "metadata": {
        "id": "sfgmiYkCoKVe"
      }
    },
    {
      "cell_type": "code",
      "source": [
        "!pip install geemap"
      ],
      "metadata": {
        "id": "NYAlzFvnrIFN"
      },
      "execution_count": null,
      "outputs": []
    },
    {
      "cell_type": "code",
      "source": [
        "# method to remove cloud from the image\n",
        "def maskclouds(image: ee.Image) -> ee.Image:\n",
        "    \"\"\"To mask clouds using the Sentinel-2 QA band\n",
        "    @param {ee.Image} image Sentinel-2 image\n",
        "    @return {ee.Image} cloud masked Sentinel-2 image\n",
        "    \"\"\"\n",
        "    band_qa = image.select('QA60')\n",
        "    cloud_mask = ee.Number(2).pow(10).int()\n",
        "    cirrus_mask = ee.Number(2).pow(11).int()\n",
        "    mask = band_qa.bitwiseAnd(cloud_mask).eq(0) and(\n",
        "        band_qa.bitwiseAnd(cirrus_mask).eq(0))\n",
        "    return image.updateMask(mask).divide(10000)\n",
        "\n",
        "def fndvi(image: ee.Image) -> ee.Image:\n",
        "    \"\"\"Add NDVI to each pixel in an image\"\"\"\n",
        "    #TODO: ask toby about this NDVI calculation\n",
        "    # since its 20m resolution\n",
        "    # there are other NDVIs at 10m resolution\n",
        "    ndvi = image.expression(\n",
        "    \"(NIR-RED)/(NIR+RED)\",\n",
        "    {\n",
        "        'RED': image.select('B4').multiply(0.0001),\n",
        "        'NIR' : image.select('B5').multiply(0.0001)\n",
        "    \n",
        "    });# okay\n",
        "    ndf = ndvi.rename('FNDVI')\n",
        "    results = ndf.copyProperties(image, ['system:time_start'])\n",
        "    return image.addBands(results)\n",
        "\n",
        "\n",
        "def temporal_composite(image_collection: ee.ImageCollection,\n",
        "                        duration: ee.DateRange, \n",
        "                        cloud_percentage: ee.Number,\n",
        "                        bands: ee.List,\n",
        "                        reducer: ee.Reducer) -> ee.Image :\n",
        "    ''' Applies reducer on images across a time range\n",
        "    Returns a composite for the duration\n",
        "    with selected bands\n",
        "    '''\n",
        "    ## TODO: filter out months with no data\n",
        "    ## some months with many cloudy days\n",
        "    ## might end up with No data\n",
        "    return (image_collection.\n",
        "            filterDate(duration.start(), duration.end()).\n",
        "            filter(ee.Filter.lt('CLOUDY_PIXEL_PERCENTAGE', cloud_percentage)).\n",
        "            map(maskclouds).\n",
        "            select(bands).\n",
        "            reduce(reducer))"
      ],
      "metadata": {
        "id": "u4IoonUMn1WV"
      },
      "execution_count": 25,
      "outputs": []
    },
    {
      "cell_type": "code",
      "source": [
        "def get_composites_for_aoi(time_range:ee.DateRange, aoi: ee.Geometry, out_dir: str, reproject=True, download=False) -> ee.ImageCollection:\n",
        "  ''' Get sentinel images from GEE\n",
        "  fitler according to bounds and duration\n",
        "  and create monthly composite for all months in time_range\n",
        "  Returns monthly composites collection\n",
        "  Downloads collection to google drive\n",
        "  '''\n",
        "  collection_sentinel = ('COPERNICUS/S2_SR')\n",
        "  start_date = time_range.start()\n",
        "  end_date = time_range.end()\n",
        "  count = end_date.difference(start_date, 'month').round().toInt()\n",
        "  month_seq = ee.List.sequence(0, count.subtract(1))\n",
        "  \n",
        "  images_collection = ee.ImageCollection(collection_sentinel)\n",
        "  \n",
        "  #print(aoi.getInfo())\n",
        "  # Filter collection by aoi\n",
        "  images_collection_aoi = images_collection.filterBounds(aoi)\n",
        "\n",
        "  # right projection is important for minimizing errors in computations\n",
        "  projection = images_collection_aoi.first().select('B2').projection()\n",
        "\n",
        "  def create_monthly_max_composite(month_no: ee.Number) -> ee.Image:\n",
        "    ''' For a given month \n",
        "    takes the max value of each band for each pixel\n",
        "    across all the images in the month\n",
        "    Returns: A monthly composite with multiple bands\n",
        "    '''\n",
        "    month_start_date = start_date.advance(month_no, 'month')\n",
        "    month_end_date = month_start_date.advance(1, 'month')\n",
        "    duration = ee.DateRange(month_start_date, month_end_date)\n",
        "    bands = ee.List(['B1', 'B2', 'B3', 'B4', 'B5', 'B6', 'B7', 'B8', 'B8A', 'B9', 'B11', 'B12'])\n",
        "    cloud_percent_acceptable = ee.Number(10) # % of pixels w/ clouds acceptaple in images\n",
        "\n",
        "    image = (temporal_composite(images_collection_aoi,\n",
        "                                duration, \n",
        "                                cloud_percent_acceptable,\n",
        "                                bands,\n",
        "                                ee.Reducer.max()).\n",
        "            float().\n",
        "            set('system:time_start', month_start_date.millis()).\n",
        "            set('system:id', month_start_date.format('YYYYMM')).\n",
        "            set('system:index', month_start_date.format('YYYYMM')))\n",
        "    if (reproject):\n",
        "      image = image.reproject(projection)\n",
        "  \n",
        "    return image\n",
        "  \n",
        "  # return create_monthly_max_composite(4) # for testing\n",
        "  \n",
        "  composite_collection = ee.ImageCollection.fromImages(month_seq.map(create_monthly_max_composite))\n",
        "\n",
        "  if (download):\n",
        "    geemap.ee_export_image_collection_to_drive(composite_collection, scale=10, descriptions=None, folder=out_dir, region=aoi)\n",
        "\n",
        "  return composite_collection"
      ],
      "metadata": {
        "id": "K8qveop1oW--"
      },
      "execution_count": 26,
      "outputs": []
    },
    {
      "cell_type": "markdown",
      "source": [
        "## Download Image collection"
      ],
      "metadata": {
        "id": "SKaFxMWi1q1z"
      }
    },
    {
      "cell_type": "code",
      "source": [
        "import geemap\n",
        "import os\n",
        "from pathlib import Path\n",
        "\n",
        "aoi_dir = '/content/drive/MyDrive/nrcan/lc_data/aoi_512x512'\n",
        "image_dir = '/content/drive/MyDrive/nrcan/sentinel_aoi_images'\n",
        "time_range = ee.DateRange('2020-07-01', '2020-09-01')\n",
        "\n",
        "composite_images = []\n",
        "\n",
        "for aoi_tifname in os.listdir(aoi_dir):\n",
        "  print(aoi_tifname)\n",
        "  Path(f\"{image_dir}/{aoi_tifname}\").mkdir(parents=True, exist_ok=True)\n",
        "  aoi_gdf = get_aoi_gdf(f'{aoi_dir}/{aoi_tifname}')\n",
        "  aoi_ee = geemap.geopandas_to_ee(aoi_gdf)\n",
        "  aoi_geom = ee.Geometry(aoi_ee.getInfo()['features'][0]['geometry'])\n",
        "  composite_images.append(get_composites_for_aoi(time_range, aoi_geom, out_dir=aoi_tifname, reproject=True, download=True))\n"
      ],
      "metadata": {
        "id": "NP0XzTRroY5N",
        "colab": {
          "base_uri": "https://localhost:8080/"
        },
        "outputId": "c9421e52-b814-460c-ed5e-7d2825b70568"
      },
      "execution_count": 39,
      "outputs": [
        {
          "output_type": "stream",
          "name": "stdout",
          "text": [
            "aoi4_lc_021\n",
            "Total number of images: 2\n",
            "\n",
            "Exporting 202007 ...\n",
            "Exporting 202008 ...\n",
            "aoi4_lc_220\n",
            "Total number of images: 2\n",
            "\n",
            "Exporting 202007 ...\n",
            "Exporting 202008 ...\n",
            "aoi4_lc_820\n",
            "Total number of images: 2\n",
            "\n",
            "Exporting 202007 ...\n",
            "Exporting 202008 ...\n",
            "aoi4_lc_821\n",
            "Total number of images: 2\n",
            "\n",
            "Exporting 202007 ...\n",
            "Exporting 202008 ...\n",
            "aoi4_lc_111\n",
            "Total number of images: 2\n",
            "\n",
            "Exporting 202007 ...\n",
            "Exporting 202008 ...\n",
            "aoi4_lc_1422\n",
            "Total number of images: 2\n",
            "\n",
            "Exporting 202007 ...\n",
            "Exporting 202008 ...\n",
            "aoi4_lc_1425\n",
            "Total number of images: 2\n",
            "\n",
            "Exporting 202007 ...\n",
            "Exporting 202008 ...\n",
            "aoi4_lc_1626\n",
            "Total number of images: 2\n",
            "\n",
            "Exporting 202007 ...\n",
            "Exporting 202008 ...\n",
            "aoi5_lc_83\n",
            "Total number of images: 2\n",
            "\n",
            "Exporting 202007 ...\n",
            "Exporting 202008 ...\n",
            "aoi8_lc_48\n",
            "Total number of images: 2\n",
            "\n",
            "Exporting 202007 ...\n",
            "Exporting 202008 ...\n"
          ]
        }
      ]
    },
    {
      "cell_type": "code",
      "source": [
        "composite_images[9].size().getInfo()"
      ],
      "metadata": {
        "colab": {
          "base_uri": "https://localhost:8080/"
        },
        "id": "PtI31cAAriLI",
        "outputId": "d31b8d91-6dd3-4589-b419-021e42e1976c"
      },
      "execution_count": 31,
      "outputs": [
        {
          "output_type": "execute_result",
          "data": {
            "text/plain": [
              "2"
            ]
          },
          "metadata": {},
          "execution_count": 31
        }
      ]
    },
    {
      "cell_type": "code",
      "source": [
        "Map = geemap.Map()\n",
        "vis_params = {\n",
        "    'bands': ['B8_max', 'B4_max', 'B3_max'],\n",
        "    'min': 0,\n",
        "    'max': 1.0\n",
        "}\n",
        "#vis_type = 'agriculture(B11,B8,B2)'\n",
        "vis_type = 'false(B8,B4,B3)'\n",
        "\n",
        "Map.addLayer(aoi, {'color': 'green'}, 'AOI', opacity=0.5)\n",
        "\n",
        "image = ee.Image(composite_images[9].toList(2).get(0)) # map one image from collection\n",
        "Map.addLayer(image, vis_params, vis_type) \n",
        "Map.center_object(aoi)"
      ],
      "metadata": {
        "id": "uIWfDEv2otbT"
      },
      "execution_count": 36,
      "outputs": []
    },
    {
      "cell_type": "code",
      "source": [
        "\n",
        "Map"
      ],
      "metadata": {
        "colab": {
          "base_uri": "https://localhost:8080/",
          "height": 621,
          "referenced_widgets": [
            "8ad1d96b380b45c680947d494dbae1af",
            "4b44f67ebe4a4b439fc910838da586bc",
            "57edbe4449724402b557dbd2dfb95564",
            "223e59023a5e44ac9c776c63af00eaa4",
            "423f9512b3e44e0cb68366fdc4137c1e",
            "0ef36bdd16a4447aad6612587f6e5646",
            "a2aa5e43d46b4ea78e259d450144f2b8",
            "bb3f53566883494b84e94833dede9d14",
            "f98dccb14fd34b3d86302733bc3699dd",
            "e990cb93192640b29ac9a564b1568a34",
            "69b7ddcbf8fd417b92107d034bc27c2f",
            "3cdaf679209948e1bb85dd9105505cb0",
            "a17756bad2c24ae6995d65ccb7170729",
            "b73c92c5dba84ba4897f12513fabd36c",
            "1315cab769d744a89caedcf57072e304",
            "cdd2f7f88f9840838c94650ee2336bd7",
            "ba933b8603374b009fbabd35f74f3df2",
            "ddf4a9e83abc425583f1ca12f5368437",
            "8845a6fbfb764e7c82d32d2426960800",
            "5c08aef9ccb04888b3b1178e7cfed249",
            "d96a1f0689ff493aacdaf5dd6774bd52",
            "45cf5143d006471c92351c16398e3686",
            "f5a4a395ce4c40b4bd7629d8c760e6cc",
            "4753f21ae99841a0982518354e511a26",
            "089634bf603f4d429fd3c1937b2af12b",
            "45cc37f4bc404c9cb7f1db83d436018f",
            "a05b1372461e44149bca6e142928f7cc"
          ]
        },
        "id": "isxcmt1Fs6rw",
        "outputId": "0d857bcc-0111-4ab8-d632-96b66e974074"
      },
      "execution_count": 37,
      "outputs": [
        {
          "output_type": "display_data",
          "data": {
            "text/plain": [
              "Map(center=[46.35804996854766, -72.52711237054402], controls=(WidgetControl(options=['position', 'transparent_…"
            ],
            "application/vnd.jupyter.widget-view+json": {
              "version_major": 2,
              "version_minor": 0,
              "model_id": "8ad1d96b380b45c680947d494dbae1af"
            }
          },
          "metadata": {
            "application/vnd.jupyter.widget-view+json": {
              "colab": {
                "custom_widget_manager": {
                  "url": "https://ssl.gstatic.com/colaboratory-static/widgets/colab-cdn-widget-manager/a8874ba6619b6106/manager.min.js"
                }
              }
            }
          }
        }
      ]
    },
    {
      "cell_type": "code",
      "source": [
        "!gdalinfo /content/drive/MyDrive/nrcan/sentinel_aoi_images/aoi4_lc_021/202008.tif"
      ],
      "metadata": {
        "colab": {
          "base_uri": "https://localhost:8080/"
        },
        "id": "RRDTFGnpw1Xf",
        "outputId": "6b216e5f-5473-4930-83f1-7bf0e59e6c1f"
      },
      "execution_count": 40,
      "outputs": [
        {
          "output_type": "stream",
          "name": "stdout",
          "text": [
            "Driver: GTiff/GeoTIFF\n",
            "Files: /content/drive/MyDrive/nrcan/sentinel_aoi_images/aoi4_lc_021/202008.tif\n",
            "Size is 1662, 1662\n",
            "Coordinate System is:\n",
            "PROJCS[\"WGS 84 / UTM zone 14N\",\n",
            "    GEOGCS[\"WGS 84\",\n",
            "        DATUM[\"WGS_1984\",\n",
            "            SPHEROID[\"WGS 84\",6378137,298.257223563,\n",
            "                AUTHORITY[\"EPSG\",\"7030\"]],\n",
            "            AUTHORITY[\"EPSG\",\"6326\"]],\n",
            "        PRIMEM[\"Greenwich\",0,\n",
            "            AUTHORITY[\"EPSG\",\"8901\"]],\n",
            "        UNIT[\"degree\",0.0174532925199433,\n",
            "            AUTHORITY[\"EPSG\",\"9122\"]],\n",
            "        AUTHORITY[\"EPSG\",\"4326\"]],\n",
            "    PROJECTION[\"Transverse_Mercator\"],\n",
            "    PARAMETER[\"latitude_of_origin\",0],\n",
            "    PARAMETER[\"central_meridian\",-99],\n",
            "    PARAMETER[\"scale_factor\",0.9996],\n",
            "    PARAMETER[\"false_easting\",500000],\n",
            "    PARAMETER[\"false_northing\",0],\n",
            "    UNIT[\"metre\",1,\n",
            "        AUTHORITY[\"EPSG\",\"9001\"]],\n",
            "    AXIS[\"Easting\",EAST],\n",
            "    AXIS[\"Northing\",NORTH],\n",
            "    AUTHORITY[\"EPSG\",\"32614\"]]\n",
            "Origin = (626510.000000000000000,6225720.000000000000000)\n",
            "Pixel Size = (10.000000000000000,-10.000000000000000)\n",
            "Metadata:\n",
            "  AREA_OR_POINT=Area\n",
            "Image Structure Metadata:\n",
            "  COMPRESSION=LZW\n",
            "  INTERLEAVE=PIXEL\n",
            "Corner Coordinates:\n",
            "Upper Left  (  626510.000, 6225720.000) ( 96d57'46.73\"W, 56d 9'34.85\"N)\n",
            "Lower Left  (  626510.000, 6209100.000) ( 96d58'15.04\"W, 56d 0'37.61\"N)\n",
            "Upper Right (  643130.000, 6225720.000) ( 96d41'44.16\"W, 56d 9'17.94\"N)\n",
            "Lower Right (  643130.000, 6209100.000) ( 96d42'16.18\"W, 56d 0'20.79\"N)\n",
            "Center      (  634820.000, 6217410.000) ( 96d50' 0.53\"W, 56d 4'58.06\"N)\n",
            "Band 1 Block=256x256 Type=Float32, ColorInterp=Gray\n",
            "  Description = B1_max\n",
            "Band 2 Block=256x256 Type=Float32, ColorInterp=Undefined\n",
            "  Description = B2_max\n",
            "Band 3 Block=256x256 Type=Float32, ColorInterp=Undefined\n",
            "  Description = B3_max\n",
            "Band 4 Block=256x256 Type=Float32, ColorInterp=Undefined\n",
            "  Description = B4_max\n",
            "Band 5 Block=256x256 Type=Float32, ColorInterp=Undefined\n",
            "  Description = B5_max\n",
            "Band 6 Block=256x256 Type=Float32, ColorInterp=Undefined\n",
            "  Description = B6_max\n",
            "Band 7 Block=256x256 Type=Float32, ColorInterp=Undefined\n",
            "  Description = B7_max\n",
            "Band 8 Block=256x256 Type=Float32, ColorInterp=Undefined\n",
            "  Description = B8_max\n",
            "Band 9 Block=256x256 Type=Float32, ColorInterp=Undefined\n",
            "  Description = B8A_max\n",
            "Band 10 Block=256x256 Type=Float32, ColorInterp=Undefined\n",
            "  Description = B9_max\n",
            "Band 11 Block=256x256 Type=Float32, ColorInterp=Undefined\n",
            "  Description = B11_max\n",
            "Band 12 Block=256x256 Type=Float32, ColorInterp=Undefined\n",
            "  Description = B12_max\n"
          ]
        }
      ]
    },
    {
      "cell_type": "code",
      "source": [
        "!gdalinfo /content/drive/MyDrive/nrcan/lc_data/aoi_512x512/aoi4_lc_021"
      ],
      "metadata": {
        "colab": {
          "base_uri": "https://localhost:8080/"
        },
        "id": "F06WY86A6P1_",
        "outputId": "8249052a-6971-4cfb-c03a-8d0700a76e0c"
      },
      "execution_count": 41,
      "outputs": [
        {
          "output_type": "stream",
          "name": "stdout",
          "text": [
            "Driver: GTiff/GeoTIFF\n",
            "Files: /content/drive/MyDrive/nrcan/lc_data/aoi_512x512/aoi4_lc_021\n",
            "Size is 512, 512\n",
            "Coordinate System is:\n",
            "PROJCS[\"NAD83 / Canada Atlas Lambert\",\n",
            "    GEOGCS[\"NAD83\",\n",
            "        DATUM[\"North_American_Datum_1983\",\n",
            "            SPHEROID[\"GRS 1980\",6378137,298.257222101,\n",
            "                AUTHORITY[\"EPSG\",\"7019\"]],\n",
            "            TOWGS84[0,0,0,0,0,0,0],\n",
            "            AUTHORITY[\"EPSG\",\"6269\"]],\n",
            "        PRIMEM[\"Greenwich\",0,\n",
            "            AUTHORITY[\"EPSG\",\"8901\"]],\n",
            "        UNIT[\"degree\",0.0174532925199433,\n",
            "            AUTHORITY[\"EPSG\",\"9122\"]],\n",
            "        AUTHORITY[\"EPSG\",\"4269\"]],\n",
            "    PROJECTION[\"Lambert_Conformal_Conic_2SP\"],\n",
            "    PARAMETER[\"standard_parallel_1\",49],\n",
            "    PARAMETER[\"standard_parallel_2\",77],\n",
            "    PARAMETER[\"latitude_of_origin\",49],\n",
            "    PARAMETER[\"central_meridian\",-95],\n",
            "    PARAMETER[\"false_easting\",0],\n",
            "    PARAMETER[\"false_northing\",0],\n",
            "    UNIT[\"metre\",1,\n",
            "        AUTHORITY[\"EPSG\",\"9001\"]],\n",
            "    AXIS[\"Easting\",EAST],\n",
            "    AXIS[\"Northing\",NORTH],\n",
            "    AUTHORITY[\"EPSG\",\"3978\"]]\n",
            "Origin = (-119370.270117912907153,788205.289478012826294)\n",
            "Pixel Size = (30.000000000000000,-30.000000000000000)\n",
            "Metadata:\n",
            "  AREA_OR_POINT=Area\n",
            "Image Structure Metadata:\n",
            "  COMPRESSION=LZW\n",
            "  INTERLEAVE=BAND\n",
            "Corner Coordinates:\n",
            "Upper Left  ( -119370.270,  788205.289) ( 96d57'48.08\"W, 56d 9' 4.04\"N)\n",
            "Lower Left  ( -119370.270,  772845.289) ( 96d57'20.12\"W, 56d 0'36.78\"N)\n",
            "Upper Right ( -104010.270,  788205.289) ( 96d42'39.06\"W, 56d 9'18.69\"N)\n",
            "Lower Right ( -104010.270,  772845.289) ( 96d42'14.70\"W, 56d 0'51.38\"N)\n",
            "Center      ( -111690.270,  780525.289) ( 96d50' 0.49\"W, 56d 4'57.96\"N)\n",
            "Band 1 Block=128x128 Type=Byte, ColorInterp=Gray\n",
            "  NoData Value=255\n"
          ]
        }
      ]
    }
  ]
}
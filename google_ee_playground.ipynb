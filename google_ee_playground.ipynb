{
 "cells": [
  {
   "cell_type": "markdown",
   "metadata": {},
   "source": [
    "## Import Earth engine and Initialize it"
   ]
  },
  {
   "cell_type": "code",
   "execution_count": 2,
   "metadata": {},
   "outputs": [
    {
     "name": "stdout",
     "output_type": "stream",
     "text": [
      "To authorize access needed by Earth Engine, open the following URL in a web browser and follow the instructions. If the web browser does not start automatically, please manually browse the URL below.\n",
      "\n",
      "    https://code.earthengine.google.com/client-auth?scopes=https%3A//www.googleapis.com/auth/earthengine%20https%3A//www.googleapis.com/auth/devstorage.full_control&request_id=xrM44PlL4ElyKcjP8BUNa_3PV_O6zf5efUa6ORnNWSI&tc=imm4tKHOMUtZb5AO3ZCLFxVzKBHul06Fiu7kJS73zfI&cc=A8my255pe6F4wv3Wc1Ym69wctt2oLK1n9vzqyxpYelc\n",
      "\n",
      "The authorization workflow will generate a code, which you should paste in the box below. \n",
      "\n",
      "Successfully saved authorization token.\n"
     ]
    }
   ],
   "source": [
    "import ee\n",
    "ee.Authenticate() # give this notebook access to your google ee account\n",
    "ee.Initialize() # this talks to ee backend to find out about all features of ee"
   ]
  },
  {
   "cell_type": "markdown",
   "metadata": {},
   "source": [
    "## Define an earth engne image object from satellite data\n",
    "[Link to GEE data catalog](https://developers.google.com/earth-engine/datasets/catalog)"
   ]
  },
  {
   "cell_type": "code",
   "execution_count": 3,
   "metadata": {},
   "outputs": [
    {
     "ename": "SyntaxError",
     "evalue": "invalid syntax (2542563561.py, line 5)",
     "output_type": "error",
     "traceback": [
      "\u001b[0;36m  File \u001b[0;32m\"/tmp/ipykernel_1130/2542563561.py\"\u001b[0;36m, line \u001b[0;32m5\u001b[0m\n\u001b[0;31m    function maskS2clouds(image) {\u001b[0m\n\u001b[0m                        ^\u001b[0m\n\u001b[0;31mSyntaxError\u001b[0m\u001b[0;31m:\u001b[0m invalid syntax\n"
     ]
    }
   ],
   "source": [
    "'''Function to mask clouds using the Sentinel-2 QA band\n",
    " @param {ee.Image} image Sentinel-2 image\n",
    " @return {ee.Image} cloud masked Sentinel-2 image\n",
    " '''\n",
    "def maskS2clouds(image):\n",
    "  qa = image.select('QA60')\n",
    "\n",
    "  # Bits 10 and 11 are clouds and cirrus, respectively.\n",
    "  cloudBitMask = 1 << 10;\n",
    "  var cirrusBitMask = 1 << 11;\n",
    "\n",
    "  # Both flags should be set to zero, indicating clear conditions.\n",
    "  var mask = qa.bitwiseAnd(cloudBitMask).eq(0)\n",
    "      .and(qa.bitwiseAnd(cirrusBitMask).eq(0));\n",
    "\n",
    "  return image.updateMask(mask).divide(10000);\n",
    "}\n",
    "\n",
    "\n",
    "sentinel2_dataset = ee.ImageCollection('COPERNICUS/S2_SR_HARMONIZED')\n",
    "                  .filterDate('2020-01-01', '2020-01-30')\n",
    "                  # Pre-filter to get less cloudy granules.\n",
    "                  .filter(ee.Filter.lt('CLOUDY_PIXEL_PERCENTAGE',10))\n",
    "                  # remove cloudy pixels\n",
    "                  .map(maskS2clouds);\n"
   ]
  },
  {
   "cell_type": "code",
   "execution_count": null,
   "metadata": {},
   "outputs": [],
   "source": []
  }
 ],
 "metadata": {
  "interpreter": {
   "hash": "31f2aee4e71d21fbe5cf8b01ff0e069b9275f58929596ceb00d14d90e3e16cd6"
  },
  "kernelspec": {
   "display_name": "Python 3.7.13 64-bit",
   "language": "python",
   "name": "python3"
  },
  "language_info": {
   "codemirror_mode": {
    "name": "ipython",
    "version": 3
   },
   "file_extension": ".py",
   "mimetype": "text/x-python",
   "name": "python",
   "nbconvert_exporter": "python",
   "pygments_lexer": "ipython3",
   "version": "3.7.13"
  },
  "orig_nbformat": 4
 },
 "nbformat": 4,
 "nbformat_minor": 2
}

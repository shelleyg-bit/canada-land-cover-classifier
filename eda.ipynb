{
 "cells": [
  {
   "cell_type": "code",
   "execution_count": 2,
   "metadata": {},
   "outputs": [],
   "source": [
    "import numpy as np\n",
    "import matplotlib.pyplot as plt\n",
    "from IPython.display import Image\n",
    "from matplotlib import cm"
   ]
  },
  {
   "cell_type": "code",
   "execution_count": 3,
   "metadata": {},
   "outputs": [],
   "source": [
    "import rasterio as rio\n",
    "import pandas as pd\n",
    "import seaborn as sns"
   ]
  },
  {
   "cell_type": "markdown",
   "metadata": {},
   "source": [
    "# Data Load"
   ]
  },
  {
   "cell_type": "code",
   "execution_count": 4,
   "metadata": {},
   "outputs": [],
   "source": [
    "data = rio.open('sentinel_nrcan.tif')"
   ]
  },
  {
   "cell_type": "code",
   "execution_count": 5,
   "metadata": {},
   "outputs": [
    {
     "name": "stdout",
     "output_type": "stream",
     "text": [
      "2500 1771 13 BoundingBox(left=-74.171447754, bottom=45.96451541520898, right=-71.7489624024375, top=47.144897486) \n",
      " | 0.00, 0.00,-74.17|\n",
      "| 0.00,-0.00, 47.14|\n",
      "| 0.00, 0.00, 1.00| \n",
      " EPSG:4326\n"
     ]
    },
    {
     "data": {
      "text/plain": [
       "4427500"
      ]
     },
     "execution_count": 5,
     "metadata": {},
     "output_type": "execute_result"
    }
   ],
   "source": [
    "print(data.width, data.height, data.count, data.bounds, f\"\\n {data.transform}\", \"\\n\", data.crs)\n",
    "width = data.width\n",
    "height = data.height\n",
    "height*width"
   ]
  },
  {
   "cell_type": "code",
   "execution_count": 6,
   "metadata": {},
   "outputs": [],
   "source": [
    "data_list = []\n",
    "for i in range(13):\n",
    "    if i < 9:\n",
    "        name = f'band{i+1:02d}'\n",
    "    elif (i == 9)  | (i == 10):\n",
    "        name = f'band{i+2:02d}'\n",
    "    elif i == 11:\n",
    "        name = f'band8a'\n",
    "    elif i == 12:\n",
    "        name = f'land_type'\n",
    "    band_i = pd.Series(data.read(i+1).flatten(), name=name)\n",
    "    data_list.append(band_i)\n"
   ]
  },
  {
   "cell_type": "code",
   "execution_count": 7,
   "metadata": {},
   "outputs": [
    {
     "name": "stdout",
     "output_type": "stream",
     "text": [
      "band01 0.3068\n",
      "band02 0.2572\n",
      "band03 0.2449\n",
      "band04 0.2263\n",
      "band05 0.2482\n",
      "band06 0.2813\n",
      "band07 0.2894\n",
      "band08 0.2943\n",
      "band09 0.3833\n",
      "band11 0.2308\n",
      "band12 0.1814\n",
      "band8a 0.2921\n",
      "land_type 6.0\n"
     ]
    }
   ],
   "source": [
    "for i in range(13):\n",
    "    print(data_list[i].name, data_list[i][1])"
   ]
  },
  {
   "cell_type": "code",
   "execution_count": 8,
   "metadata": {},
   "outputs": [],
   "source": [
    "df_raw = pd.concat(data_list, axis=1, keys=[s.name for s in data_list])"
   ]
  },
  {
   "cell_type": "code",
   "execution_count": 9,
   "metadata": {},
   "outputs": [
    {
     "data": {
      "text/html": [
       "<div>\n",
       "<style scoped>\n",
       "    .dataframe tbody tr th:only-of-type {\n",
       "        vertical-align: middle;\n",
       "    }\n",
       "\n",
       "    .dataframe tbody tr th {\n",
       "        vertical-align: top;\n",
       "    }\n",
       "\n",
       "    .dataframe thead th {\n",
       "        text-align: right;\n",
       "    }\n",
       "</style>\n",
       "<table border=\"1\" class=\"dataframe\">\n",
       "  <thead>\n",
       "    <tr style=\"text-align: right;\">\n",
       "      <th></th>\n",
       "      <th>band01</th>\n",
       "      <th>band02</th>\n",
       "      <th>band03</th>\n",
       "      <th>band04</th>\n",
       "      <th>band05</th>\n",
       "      <th>band06</th>\n",
       "      <th>band07</th>\n",
       "      <th>band08</th>\n",
       "      <th>band09</th>\n",
       "      <th>band11</th>\n",
       "      <th>band12</th>\n",
       "      <th>band8a</th>\n",
       "      <th>land_type</th>\n",
       "    </tr>\n",
       "  </thead>\n",
       "  <tbody>\n",
       "    <tr>\n",
       "      <th>0</th>\n",
       "      <td>0.2226</td>\n",
       "      <td>0.2033</td>\n",
       "      <td>0.2095</td>\n",
       "      <td>0.1944</td>\n",
       "      <td>0.2104</td>\n",
       "      <td>0.2375</td>\n",
       "      <td>0.2358</td>\n",
       "      <td>0.2584</td>\n",
       "      <td>0.3188</td>\n",
       "      <td>0.1967</td>\n",
       "      <td>0.1273</td>\n",
       "      <td>0.2301</td>\n",
       "      <td>1.0</td>\n",
       "    </tr>\n",
       "    <tr>\n",
       "      <th>1</th>\n",
       "      <td>0.3068</td>\n",
       "      <td>0.2572</td>\n",
       "      <td>0.2449</td>\n",
       "      <td>0.2263</td>\n",
       "      <td>0.2482</td>\n",
       "      <td>0.2813</td>\n",
       "      <td>0.2894</td>\n",
       "      <td>0.2943</td>\n",
       "      <td>0.3833</td>\n",
       "      <td>0.2308</td>\n",
       "      <td>0.1814</td>\n",
       "      <td>0.2921</td>\n",
       "      <td>6.0</td>\n",
       "    </tr>\n",
       "    <tr>\n",
       "      <th>2</th>\n",
       "      <td>0.3851</td>\n",
       "      <td>0.3290</td>\n",
       "      <td>0.3116</td>\n",
       "      <td>0.3010</td>\n",
       "      <td>0.3312</td>\n",
       "      <td>0.3579</td>\n",
       "      <td>0.3695</td>\n",
       "      <td>0.3420</td>\n",
       "      <td>0.4621</td>\n",
       "      <td>0.2969</td>\n",
       "      <td>0.2354</td>\n",
       "      <td>0.3778</td>\n",
       "      <td>6.0</td>\n",
       "    </tr>\n",
       "    <tr>\n",
       "      <th>3</th>\n",
       "      <td>0.4392</td>\n",
       "      <td>0.4069</td>\n",
       "      <td>0.3865</td>\n",
       "      <td>0.3774</td>\n",
       "      <td>0.4114</td>\n",
       "      <td>0.4332</td>\n",
       "      <td>0.4422</td>\n",
       "      <td>0.4113</td>\n",
       "      <td>0.5130</td>\n",
       "      <td>0.3676</td>\n",
       "      <td>0.3126</td>\n",
       "      <td>0.4477</td>\n",
       "      <td>1.0</td>\n",
       "    </tr>\n",
       "    <tr>\n",
       "      <th>4</th>\n",
       "      <td>0.4378</td>\n",
       "      <td>0.4235</td>\n",
       "      <td>0.4058</td>\n",
       "      <td>0.3930</td>\n",
       "      <td>0.4168</td>\n",
       "      <td>0.4282</td>\n",
       "      <td>0.4254</td>\n",
       "      <td>0.4364</td>\n",
       "      <td>0.5176</td>\n",
       "      <td>0.3687</td>\n",
       "      <td>0.2783</td>\n",
       "      <td>0.4234</td>\n",
       "      <td>1.0</td>\n",
       "    </tr>\n",
       "  </tbody>\n",
       "</table>\n",
       "</div>"
      ],
      "text/plain": [
       "   band01  band02  band03  band04  band05  band06  band07  band08  band09  \\\n",
       "0  0.2226  0.2033  0.2095  0.1944  0.2104  0.2375  0.2358  0.2584  0.3188   \n",
       "1  0.3068  0.2572  0.2449  0.2263  0.2482  0.2813  0.2894  0.2943  0.3833   \n",
       "2  0.3851  0.3290  0.3116  0.3010  0.3312  0.3579  0.3695  0.3420  0.4621   \n",
       "3  0.4392  0.4069  0.3865  0.3774  0.4114  0.4332  0.4422  0.4113  0.5130   \n",
       "4  0.4378  0.4235  0.4058  0.3930  0.4168  0.4282  0.4254  0.4364  0.5176   \n",
       "\n",
       "   band11  band12  band8a  land_type  \n",
       "0  0.1967  0.1273  0.2301        1.0  \n",
       "1  0.2308  0.1814  0.2921        6.0  \n",
       "2  0.2969  0.2354  0.3778        6.0  \n",
       "3  0.3676  0.3126  0.4477        1.0  \n",
       "4  0.3687  0.2783  0.4234        1.0  "
      ]
     },
     "execution_count": 9,
     "metadata": {},
     "output_type": "execute_result"
    }
   ],
   "source": [
    "df_raw.head()"
   ]
  },
  {
   "cell_type": "code",
   "execution_count": 10,
   "metadata": {},
   "outputs": [
    {
     "data": {
      "text/plain": [
       "6.0     1535146\n",
       "5.0     1131918\n",
       "15.0     803409\n",
       "1.0      347161\n",
       "18.0     338687\n",
       "17.0     151530\n",
       "8.0       40241\n",
       "14.0      36066\n",
       "16.0      26417\n",
       "10.0      16925\n",
       "Name: land_type, dtype: int64"
      ]
     },
     "execution_count": 10,
     "metadata": {},
     "output_type": "execute_result"
    }
   ],
   "source": [
    "df_raw.land_type.value_counts()"
   ]
  },
  {
   "cell_type": "markdown",
   "metadata": {},
   "source": [
    "# ML Classifier"
   ]
  },
  {
   "cell_type": "code",
   "execution_count": 19,
   "metadata": {},
   "outputs": [],
   "source": [
    "from sklearn.ensemble import RandomForestClassifier\n",
    "from sklearn.datasets import make_classification\n",
    "from sklearn.model_selection import train_test_split\n",
    "from sklearn import metrics\n",
    "from sklearn.metrics import accuracy_score\n",
    "from sklearn.preprocessing import StandardScaler\n",
    "from sklearn.metrics import confusion_matrix"
   ]
  },
  {
   "cell_type": "markdown",
   "metadata": {},
   "source": [
    "## Data prep"
   ]
  },
  {
   "cell_type": "code",
   "execution_count": 66,
   "metadata": {},
   "outputs": [],
   "source": [
    "SAMPLE_SIZE = int(5e3)\n",
    "df = df_raw[0:SAMPLE_SIZE]"
   ]
  },
  {
   "cell_type": "code",
   "execution_count": 67,
   "metadata": {},
   "outputs": [
    {
     "data": {
      "text/plain": [
       "6.0     2230\n",
       "5.0     1197\n",
       "1.0      804\n",
       "18.0     437\n",
       "8.0      129\n",
       "14.0      79\n",
       "10.0      68\n",
       "16.0      44\n",
       "17.0      10\n",
       "15.0       2\n",
       "Name: land_type, dtype: int64"
      ]
     },
     "execution_count": 67,
     "metadata": {},
     "output_type": "execute_result"
    }
   ],
   "source": [
    "df.land_type.value_counts()"
   ]
  },
  {
   "cell_type": "markdown",
   "metadata": {},
   "source": [
    "### Normalizing feature values"
   ]
  },
  {
   "cell_type": "code",
   "execution_count": 68,
   "metadata": {},
   "outputs": [],
   "source": [
    "y = df.land_type\n",
    "X = df.drop(['land_type'], axis=1)\n",
    "columns = X.columns\n",
    "\n",
    "# Standardize features by removing the mean and scaling to unit variance\n",
    "scaler = StandardScaler()\n",
    "X = scaler.fit_transform(X)"
   ]
  },
  {
   "cell_type": "markdown",
   "metadata": {},
   "source": [
    "## Training the model"
   ]
  },
  {
   "cell_type": "code",
   "execution_count": 78,
   "metadata": {},
   "outputs": [
    {
     "name": "stdout",
     "output_type": "stream",
     "text": [
      "(4000, 12) (1000, 12) (4000,) (1000,)\n"
     ]
    }
   ],
   "source": [
    "X_train, X_test, y_train, y_test = train_test_split(X, y, test_size=0.2, random_state=42)\n",
    "\n",
    "print(X_train.shape, X_test.shape, y_train.shape, y_test.shape)"
   ]
  },
  {
   "cell_type": "code",
   "execution_count": 70,
   "metadata": {},
   "outputs": [],
   "source": [
    "clf=RandomForestClassifier(n_estimators=200, max_features='sqrt', min_samples_leaf=2, max_depth=10)\n",
    "clf.fit(X_train,y_train)\n"
   ]
  },
  {
   "cell_type": "markdown",
   "metadata": {},
   "source": [
    "## Prediction"
   ]
  },
  {
   "cell_type": "code",
   "execution_count": null,
   "metadata": {},
   "outputs": [],
   "source": [
    "y_pred=clf.predict(X_test)"
   ]
  },
  {
   "cell_type": "code",
   "execution_count": 71,
   "metadata": {},
   "outputs": [
    {
     "name": "stdout",
     "output_type": "stream",
     "text": [
      "Accuracy: 0.496\n"
     ]
    }
   ],
   "source": [
    "print(\"Accuracy:\", metrics.accuracy_score(y_test, y_pred))"
   ]
  },
  {
   "cell_type": "code",
   "execution_count": 80,
   "metadata": {},
   "outputs": [
    {
     "data": {
      "text/plain": [
       "array([ 6.,  6.,  6.,  6.,  6.,  6.,  6.,  6.,  6.,  6.,  6.,  6.,  5.,\n",
       "        6.,  1.,  6.,  6.,  6.,  6.,  6.,  6.,  6.,  6.,  5.,  6.,  6.,\n",
       "        6.,  6.,  6.,  1.,  6.,  1.,  6.,  6.,  6.,  6.,  6.,  1.,  6.,\n",
       "        6.,  6.,  6.,  5.,  5.,  5.,  6.,  6.,  6.,  6.,  6.,  6.,  6.,\n",
       "        6.,  1.,  6.,  6.,  6.,  5.,  6.,  6.,  6.,  6.,  6.,  6.,  6.,\n",
       "       18.,  5.,  6.,  6.,  6.,  6.,  6., 18.,  5.,  6.,  6.,  6.,  5.,\n",
       "        6.,  6.,  6.,  6.,  6.,  6.,  6.,  6.,  5.,  6.,  6.,  6.,  6.,\n",
       "        6.,  6.,  6.,  6.,  6.,  1., 18., 18.,  6.], dtype=float32)"
      ]
     },
     "execution_count": 80,
     "metadata": {},
     "output_type": "execute_result"
    }
   ],
   "source": [
    "y_pred[0:100]"
   ]
  },
  {
   "cell_type": "markdown",
   "metadata": {},
   "source": [
    "### Confusion matrix"
   ]
  },
  {
   "cell_type": "code",
   "execution_count": 72,
   "metadata": {},
   "outputs": [
    {
     "data": {
      "image/png": "[encoded data removed]",
      "text/plain": [
       "<Figure size 1080x1080 with 2 Axes>"
      ]
     },
     "metadata": {},
     "output_type": "display_data"
    }
   ],
   "source": [
    "from matplotlib.colors import LogNorm, Normalize\n",
    "results = confusion_matrix(y_test, y_pred)\n",
    "df_cm = pd.DataFrame(results, range(10), range(10))\n",
    "plt.figure(figsize=(15,15))\n",
    "sns.set(font_scale=1.4) # for label size\n",
    "sns.heatmap(df_cm, annot=True, annot_kws={\"size\": 16}, norm=LogNorm()) # font size\n",
    "plt.show()"
   ]
  },
  {
   "cell_type": "markdown",
   "metadata": {},
   "source": [
    "## Model Interpretation"
   ]
  },
  {
   "cell_type": "code",
   "execution_count": 82,
   "metadata": {},
   "outputs": [
    {
     "data": {
      "text/plain": [
       "12    0.104299\n",
       "11    0.101436\n",
       "9     0.099431\n",
       "1     0.095801\n",
       "8a    0.094142\n",
       "8     0.085731\n",
       "7     0.078586\n",
       "2     0.077536\n",
       "5     0.066588\n",
       "6     0.066498\n",
       "4     0.065195\n",
       "3     0.064757\n",
       "dtype: float64"
      ]
     },
     "execution_count": 82,
     "metadata": {},
     "output_type": "execute_result"
    }
   ],
   "source": [
    "pd.Series(clf.feature_importances_, index=['1', '2', '3', '4', '5', '6', '7', '8','9','11','12','8a']).sort_values(ascending=False)"
   ]
  },
  {
   "cell_type": "markdown",
   "metadata": {},
   "source": [
    "# Data visualization"
   ]
  },
  {
   "cell_type": "code",
   "execution_count": null,
   "metadata": {},
   "outputs": [],
   "source": [
    "#### Example plotting functions to display S2 data in Python\n",
    "\n",
    "def show_band_matrix():\n",
    "    fig, axes = plt.subplots(nrows=3, ncols=6, figsize=(50,25))\n",
    "    plt.suptitle(\"Sentinel-2 Bands\", fontsize=60)\n",
    "    band_count = 1\n",
    "    for i,ax_row in enumerate(axes):\n",
    "        for j, ax_col in enumerate(ax_row):\n",
    "            if i == 0: # Multichannel bands\n",
    "                title = IMG_TITLES[j]\n",
    "                imband = np.asarray([np.asarray(df[BAND_NAMES[j]]).reshape( \\\n",
    "                         WIDTH, HEIGHT), np.asarray(df[BAND_NAMES[j]+'_1']).reshape(WIDTH, \\\n",
    "                         HEIGHT), np.asarray(df[BAND_NAMES[j]+'_1_2']).reshape(WIDTH, HEIGHT)]).T\n",
    "            elif i == 2 and j == 3: # Special case for 8a band\n",
    "                title = 'b8a'\n",
    "                imband = np.asarray(df[title]).reshape(WIDTH, HEIGHT).T\n",
    "                band_count += 1\n",
    "            else: # Individual bands\n",
    "                title = 'b' + str(band_count).zfill(2)\n",
    "                imband = np.asarray(df[title]).reshape(WIDTH, HEIGHT).T\n",
    "                band_count += 1\n",
    "            \n",
    "            axes[i][j].set_title(title)\n",
    "            axes[i][j].imshow(imband, aspect='auto')\n",
    "            axes[i][j].set_axis_off()\n",
    "\n",
    "def show_land_cover():\n",
    "    fig, (ax, ax2) = plt.subplots(nrows=1, ncols=2, figsize=(40,15))\n",
    "    ax.set_title(\"NRCan - 2015 Land Cover of Canada\")\n",
    "    cmap = cm.get_cmap('jet', 7)    # 11 discrete colors\n",
    "    im = ax.imshow(np.asarray(df.land_cover).reshape(WIDTH, HEIGHT).T, cmap=cmap, aspect='auto')\n",
    "    ax.set_axis_off()\n",
    "    cbar = plt.colorbar(im, ax=ax)\n",
    "    tick_locs = (np.arange(7) + 0.5)*(7-1)/7\n",
    "    cbar.set_ticks(tick_locs)\n",
    "    cbar.set_ticklabels(LAND_COVER_TYPES)\n",
    "    \n",
    "    ax2.grid(linestyle='--')\n",
    "    dp = sns.distplot(df.land_cover, hist=False, kde_kws=dict(linewidth=8))\n",
    "    ax2.set_xticks(np.arange(7))\n",
    "    ax2.set_xticklabels(LAND_COVER_TYPES, fontsize=20)\n",
    "    l1 = ax2.lines[0]\n",
    "    x1 = l1.get_xydata()[:,0]\n",
    "    y1 = l1.get_xydata()[:,1]\n",
    "    ax2.fill_between(x1,y1, color=\"#5471ab\", alpha=0.3)\n",
    "    ax2.set_xlabel(\"Land Cover Type\")\n",
    "    ax2.set_title(\"Land Cover Density\")\n",
    "\n",
    "show_band_matrix()\n",
    "show_land_cover()\n",
    "\n"
   ]
  }
 ],
 "metadata": {
  "interpreter": {
   "hash": "f2db70108314089b6e4751ee038267274a220cfc846cc3db10a94220317f85ee"
  },
  "kernelspec": {
   "display_name": "Python 3.9.7 ('base')",
   "language": "python",
   "name": "python3"
  },
  "language_info": {
   "codemirror_mode": {
    "name": "ipython",
    "version": 3
   },
   "file_extension": ".py",
   "mimetype": "text/x-python",
   "name": "python",
   "nbconvert_exporter": "python",
   "pygments_lexer": "ipython3",
   "version": "3.9.7"
  },
  "orig_nbformat": 4
 },
 "nbformat": 4,
 "nbformat_minor": 2
}
